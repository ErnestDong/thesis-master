{
  "cells": [
    {
      "cell_type": "code",
      "execution_count": 2,
      "metadata": {
        "colab": {
          "base_uri": "https://localhost:8080/"
        },
        "id": "3IVRH2_8kJSZ",
        "outputId": "b5b3fac4-c534-4a47-b061-9a70900cf940"
      },
      "outputs": [],
      "source": [
        "import pandas as pd\n",
        "import numpy as np\n",
        "import matplotlib.pyplot as plt\n",
        "import seaborn as sns\n",
        "from sqlalchemy import create_engine\n",
        "import statsmodels.formula.api as smf\n",
        "import statsmodels.api as sm\n",
        "from stargazer.stargazer import Stargazer\n",
        "import matplotlib.pyplot as plt\n",
        "# from google.colab import drive\n",
        "# drive.mount('/content/drive')\n",
        "import re\n",
        "def tablelize(star):\n",
        "    string = star.render_latex().replace(\"\\\\begin{table}[!htbp] \\\\centering\",\"\").replace(\"\\\\end{table}\",\"\").replace(\"_\",\"\\\\_\")\n",
        "    return re.sub(r\"\\(df=[\\d; ]*\\)\", \"\", string)"
      ]
    },
    {
      "cell_type": "code",
      "execution_count": 3,
      "metadata": {
        "colab": {
          "base_uri": "https://localhost:8080/",
          "height": 475
        },
        "id": "lZWfNhMIkJSc",
        "outputId": "7f100f22-c5fb-4504-9aa4-431bdba17a51"
      },
      "outputs": [
        {
          "data": {
            "text/plain": [
              "<Axes: xlabel='distance', ylabel='Count'>"
            ]
          },
          "execution_count": 3,
          "metadata": {},
          "output_type": "execute_result"
        },
        {
          "data": {
            "image/png": "[encoded data removed]",
            "text/plain": [
              "<Figure size 640x480 with 1 Axes>"
            ]
          },
          "metadata": {},
          "output_type": "display_data"
        }
      ],
      "source": [
        "log=np.log\n",
        "sns.set_theme(style=\"white\")\n",
        "original_df = pd.read_parquet(\"../data/olsups.parquet\")\n",
        "sns.histplot(original_df[\"distance\"], kde=True)"
      ]
    },
    {
      "cell_type": "code",
      "execution_count": 4,
      "metadata": {
        "colab": {
          "base_uri": "https://localhost:8080/",
          "height": 412
        },
        "id": "rYashsPJkJSe",
        "outputId": "fe4603a1-212e-4603-af7f-7a6fbda43a39"
      },
      "outputs": [
        {
          "data": {
            "text/html": [
              "<div>\n",
              "<style scoped>\n",
              "    .dataframe tbody tr th:only-of-type {\n",
              "        vertical-align: middle;\n",
              "    }\n",
              "\n",
              "    .dataframe tbody tr th {\n",
              "        vertical-align: top;\n",
              "    }\n",
              "\n",
              "    .dataframe thead th {\n",
              "        text-align: right;\n",
              "    }\n",
              "</style>\n",
              "<table border=\"1\" class=\"dataframe\">\n",
              "  <thead>\n",
              "    <tr style=\"text-align: right;\">\n",
              "      <th></th>\n",
              "      <th>省份</th>\n",
              "      <th>站名</th>\n",
              "      <th>minpost</th>\n",
              "      <th>maxpost</th>\n",
              "      <th>total_claim</th>\n",
              "      <th>下年保单号</th>\n",
              "      <th>Neighbor</th>\n",
              "      <th>区站号</th>\n",
              "      <th>区站经度</th>\n",
              "      <th>区站纬度</th>\n",
              "      <th>...</th>\n",
              "      <th>Premium</th>\n",
              "      <th>Price</th>\n",
              "      <th>Area</th>\n",
              "      <th>t</th>\n",
              "      <th>GDP</th>\n",
              "      <th>Density</th>\n",
              "      <th>Penetration</th>\n",
              "      <th>Prem_before</th>\n",
              "      <th>ti</th>\n",
              "      <th>Claim</th>\n",
              "    </tr>\n",
              "  </thead>\n",
              "  <tbody>\n",
              "    <tr>\n",
              "      <th>0</th>\n",
              "      <td>江苏</td>\n",
              "      <td>南通</td>\n",
              "      <td>0.0</td>\n",
              "      <td>0.0</td>\n",
              "      <td>0.0</td>\n",
              "      <td></td>\n",
              "      <td>0</td>\n",
              "      <td>58259</td>\n",
              "      <td>120.51</td>\n",
              "      <td>32.01</td>\n",
              "      <td>...</td>\n",
              "      <td>648.0</td>\n",
              "      <td>48.000000</td>\n",
              "      <td>227.860001</td>\n",
              "      <td>2010</td>\n",
              "      <td>0.202227</td>\n",
              "      <td>396.356616</td>\n",
              "      <td>0.753691</td>\n",
              "      <td>0</td>\n",
              "      <td>2010</td>\n",
              "      <td>0</td>\n",
              "    </tr>\n",
              "    <tr>\n",
              "      <th>1</th>\n",
              "      <td>江苏</td>\n",
              "      <td>南通</td>\n",
              "      <td>0.0</td>\n",
              "      <td>0.0</td>\n",
              "      <td>0.0</td>\n",
              "      <td></td>\n",
              "      <td>0</td>\n",
              "      <td>58259</td>\n",
              "      <td>120.51</td>\n",
              "      <td>32.01</td>\n",
              "      <td>...</td>\n",
              "      <td>1134.0</td>\n",
              "      <td>90.000000</td>\n",
              "      <td>159.910004</td>\n",
              "      <td>2010</td>\n",
              "      <td>41425.480000</td>\n",
              "      <td>396.356616</td>\n",
              "      <td>0.753691</td>\n",
              "      <td>0</td>\n",
              "      <td>2010</td>\n",
              "      <td>0</td>\n",
              "    </tr>\n",
              "    <tr>\n",
              "      <th>2</th>\n",
              "      <td>江苏</td>\n",
              "      <td>南通</td>\n",
              "      <td>0.0</td>\n",
              "      <td>0.0</td>\n",
              "      <td>0.0</td>\n",
              "      <td></td>\n",
              "      <td>0</td>\n",
              "      <td>58259</td>\n",
              "      <td>120.51</td>\n",
              "      <td>32.01</td>\n",
              "      <td>...</td>\n",
              "      <td>1134.0</td>\n",
              "      <td>90.000000</td>\n",
              "      <td>159.910004</td>\n",
              "      <td>2010</td>\n",
              "      <td>0.202227</td>\n",
              "      <td>396.356616</td>\n",
              "      <td>0.753691</td>\n",
              "      <td>0</td>\n",
              "      <td>2010</td>\n",
              "      <td>0</td>\n",
              "    </tr>\n",
              "    <tr>\n",
              "      <th>3</th>\n",
              "      <td>江苏</td>\n",
              "      <td>南通</td>\n",
              "      <td>0.0</td>\n",
              "      <td>0.0</td>\n",
              "      <td>0.0</td>\n",
              "      <td></td>\n",
              "      <td>0</td>\n",
              "      <td>58259</td>\n",
              "      <td>120.51</td>\n",
              "      <td>32.01</td>\n",
              "      <td>...</td>\n",
              "      <td>1077.0</td>\n",
              "      <td>71.199997</td>\n",
              "      <td>184.169998</td>\n",
              "      <td>2010</td>\n",
              "      <td>41425.480000</td>\n",
              "      <td>396.356616</td>\n",
              "      <td>0.753691</td>\n",
              "      <td>0</td>\n",
              "      <td>2010</td>\n",
              "      <td>0</td>\n",
              "    </tr>\n",
              "    <tr>\n",
              "      <th>4</th>\n",
              "      <td>江苏</td>\n",
              "      <td>南通</td>\n",
              "      <td>0.0</td>\n",
              "      <td>0.0</td>\n",
              "      <td>0.0</td>\n",
              "      <td></td>\n",
              "      <td>0</td>\n",
              "      <td>58259</td>\n",
              "      <td>120.51</td>\n",
              "      <td>32.01</td>\n",
              "      <td>...</td>\n",
              "      <td>1077.0</td>\n",
              "      <td>71.199997</td>\n",
              "      <td>184.169998</td>\n",
              "      <td>2010</td>\n",
              "      <td>0.202227</td>\n",
              "      <td>396.356616</td>\n",
              "      <td>0.753691</td>\n",
              "      <td>0</td>\n",
              "      <td>2010</td>\n",
              "      <td>0</td>\n",
              "    </tr>\n",
              "  </tbody>\n",
              "</table>\n",
              "<p>5 rows × 37 columns</p>\n",
              "</div>"
            ],
            "text/plain": [
              "   省份  站名  minpost  maxpost  total_claim 下年保单号  Neighbor    区站号    区站经度  \\\n",
              "0  江苏  南通      0.0      0.0          0.0               0  58259  120.51   \n",
              "1  江苏  南通      0.0      0.0          0.0               0  58259  120.51   \n",
              "2  江苏  南通      0.0      0.0          0.0               0  58259  120.51   \n",
              "3  江苏  南通      0.0      0.0          0.0               0  58259  120.51   \n",
              "4  江苏  南通      0.0      0.0          0.0               0  58259  120.51   \n",
              "\n",
              "    区站纬度  ... Premium      Price        Area     t           GDP     Density  \\\n",
              "0  32.01  ...   648.0  48.000000  227.860001  2010      0.202227  396.356616   \n",
              "1  32.01  ...  1134.0  90.000000  159.910004  2010  41425.480000  396.356616   \n",
              "2  32.01  ...  1134.0  90.000000  159.910004  2010      0.202227  396.356616   \n",
              "3  32.01  ...  1077.0  71.199997  184.169998  2010  41425.480000  396.356616   \n",
              "4  32.01  ...  1077.0  71.199997  184.169998  2010      0.202227  396.356616   \n",
              "\n",
              "   Penetration  Prem_before    ti Claim  \n",
              "0     0.753691            0  2010     0  \n",
              "1     0.753691            0  2010     0  \n",
              "2     0.753691            0  2010     0  \n",
              "3     0.753691            0  2010     0  \n",
              "4     0.753691            0  2010     0  \n",
              "\n",
              "[5 rows x 37 columns]"
            ]
          },
          "execution_count": 4,
          "metadata": {},
          "output_type": "execute_result"
        }
      ],
      "source": [
        "df = original_df[original_df[\"保险金额\"] > 0].copy()\n",
        "df[\"历史投保\"] = df[\"上年保单号\"].map(lambda x: 1 if x else 0)\n",
        "df = df[(df[\"t\"] > 1999) & (df[\"t\"] < 2014)]\n",
        "df[\"ti\"] = df[\"t\"].astype(str)\n",
        "df[\"是否理赔\"] = df[\"total_claim\"].map(lambda x: 1 if x > 0 else 0)\n",
        "\n",
        "df.rename(\n",
        "    columns={\n",
        "        \"保费合计\": \"Premium\",\n",
        "        \"保险金额\": \"Coverage\",\n",
        "        \"middle\": \"Neighbor\",\n",
        "        \"treated\": \"Disaster\",\n",
        "        \"after\": \"Post\",\n",
        "        \"历史投保\": \"Prem_before\",\n",
        "        \"保险财产购置价\": \"Price\",\n",
        "        \"建筑面积\": \"Area\",\n",
        "        \"是否理赔\":\"Claim\",\n",
        "        \"保险密度\": \"Density\",\n",
        "        \"保险深度\": \"Penetration\",\n",
        "        \"gdp\": \"GDP\"\n",
        "    },\n",
        "    inplace=True,\n",
        ")\n",
        "df[\"Price\"]=df[\"Price\"]/10000\n",
        "columns = ['Premium', 'Coverage', 'Price', 'Density', 'Penetration', 'GDP']\n",
        "minmax=[0.025,0.975]\n",
        "quantiles=df[columns].quantile(minmax)\n",
        "for column in columns:\n",
        "    df=df[(df[column]>quantiles.loc[minmax[0], column]) & (df[column]<quantiles.loc[minmax[1], column])]\n",
        "df=df[df[\"Price\"]>0]\n",
        "df=df.copy()\n",
        "# df.to_parquet(\"../data/df.parquet\")\n",
        "df.head()"
      ]
    },
    {
      "cell_type": "markdown",
      "metadata": {
        "id": "4YZHsCObkJSf"
      },
      "source": [
        "## DID 回归\n",
        "\n",
        "### 远vs中"
      ]
    },
    {
      "cell_type": "code",
      "execution_count": 4,
      "metadata": {
        "colab": {
          "base_uri": "https://localhost:8080/",
          "height": 593
        },
        "id": "n-d53ghTkJSh",
        "outputId": "65cd6f10-2f17-4bf5-abfe-827c4e1b5f2c"
      },
      "outputs": [
        {
          "data": {
            "text/html": [
              "<table class=\"simpletable\">\n",
              "<caption>OLS Regression Results</caption>\n",
              "<tr>\n",
              "  <th>Dep. Variable:</th>      <td>log(Coverage)</td>  <th>  R-squared:         </th>  <td>   0.364</td>  \n",
              "</tr>\n",
              "<tr>\n",
              "  <th>Model:</th>                   <td>OLS</td>       <th>  Adj. R-squared:    </th>  <td>   0.364</td>  \n",
              "</tr>\n",
              "<tr>\n",
              "  <th>Method:</th>             <td>Least Squares</td>  <th>  F-statistic:       </th>  <td>5.356e+04</td> \n",
              "</tr>\n",
              "<tr>\n",
              "  <th>Date:</th>             <td>Fri, 03 May 2024</td> <th>  Prob (F-statistic):</th>   <td>  0.00</td>   \n",
              "</tr>\n",
              "<tr>\n",
              "  <th>Time:</th>                 <td>14:08:20</td>     <th>  Log-Likelihood:    </th> <td>-6.7273e+05</td>\n",
              "</tr>\n",
              "<tr>\n",
              "  <th>No. Observations:</th>      <td>654504</td>      <th>  AIC:               </th>  <td>1.345e+06</td> \n",
              "</tr>\n",
              "<tr>\n",
              "  <th>Df Residuals:</th>          <td>654496</td>      <th>  BIC:               </th>  <td>1.346e+06</td> \n",
              "</tr>\n",
              "<tr>\n",
              "  <th>Df Model:</th>              <td>     7</td>      <th>                     </th>      <td> </td>     \n",
              "</tr>\n",
              "<tr>\n",
              "  <th>Covariance Type:</th>      <td>nonrobust</td>    <th>                     </th>      <td> </td>     \n",
              "</tr>\n",
              "</table>\n",
              "<table class=\"simpletable\">\n",
              "<tr>\n",
              "          <td></td>            <th>coef</th>     <th>std err</th>      <th>t</th>      <th>P>|t|</th>  <th>[0.025</th>    <th>0.975]</th>  \n",
              "</tr>\n",
              "<tr>\n",
              "  <th>Intercept</th>        <td>   11.0413</td> <td>    0.004</td> <td> 2798.434</td> <td> 0.000</td> <td>   11.034</td> <td>   11.049</td>\n",
              "</tr>\n",
              "<tr>\n",
              "  <th>Neighbor</th>         <td>   -0.2008</td> <td>    0.013</td> <td>  -15.445</td> <td> 0.000</td> <td>   -0.226</td> <td>   -0.175</td>\n",
              "</tr>\n",
              "<tr>\n",
              "  <th>Post</th>             <td>    0.1033</td> <td>    0.003</td> <td>   34.310</td> <td> 0.000</td> <td>    0.097</td> <td>    0.109</td>\n",
              "</tr>\n",
              "<tr>\n",
              "  <th>Neighbor:Post</th>    <td>    0.2424</td> <td>    0.014</td> <td>   17.786</td> <td> 0.000</td> <td>    0.216</td> <td>    0.269</td>\n",
              "</tr>\n",
              "<tr>\n",
              "  <th>Prem_before</th>      <td>    0.2395</td> <td>    0.005</td> <td>   47.398</td> <td> 0.000</td> <td>    0.230</td> <td>    0.249</td>\n",
              "</tr>\n",
              "<tr>\n",
              "  <th>log(Price)</th>       <td>    0.3642</td> <td>    0.001</td> <td>  541.491</td> <td> 0.000</td> <td>    0.363</td> <td>    0.366</td>\n",
              "</tr>\n",
              "<tr>\n",
              "  <th>log(Penetration)</th> <td>    0.6731</td> <td>    0.004</td> <td>  170.840</td> <td> 0.000</td> <td>    0.665</td> <td>    0.681</td>\n",
              "</tr>\n",
              "<tr>\n",
              "  <th>log(GDP)</th>         <td>    0.0007</td> <td>    0.000</td> <td>    4.663</td> <td> 0.000</td> <td>    0.000</td> <td>    0.001</td>\n",
              "</tr>\n",
              "</table>\n",
              "<table class=\"simpletable\">\n",
              "<tr>\n",
              "  <th>Omnibus:</th>       <td>359298.405</td> <th>  Durbin-Watson:     </th>  <td>   0.617</td>  \n",
              "</tr>\n",
              "<tr>\n",
              "  <th>Prob(Omnibus):</th>   <td> 0.000</td>   <th>  Jarque-Bera (JB):  </th> <td>7923050.019</td>\n",
              "</tr>\n",
              "<tr>\n",
              "  <th>Skew:</th>            <td> 2.189</td>   <th>  Prob(JB):          </th>  <td>    0.00</td>  \n",
              "</tr>\n",
              "<tr>\n",
              "  <th>Kurtosis:</th>        <td>19.473</td>   <th>  Cond. No.          </th>  <td>    161.</td>  \n",
              "</tr>\n",
              "</table><br/><br/>Notes:<br/>[1] Standard Errors assume that the covariance matrix of the errors is correctly specified."
            ],
            "text/latex": [
              "\\begin{center}\n",
              "\\begin{tabular}{lclc}\n",
              "\\toprule\n",
              "\\textbf{Dep. Variable:}    &  log(Coverage)   & \\textbf{  R-squared:         } &      0.364   \\\\\n",
              "\\textbf{Model:}            &       OLS        & \\textbf{  Adj. R-squared:    } &      0.364   \\\\\n",
              "\\textbf{Method:}           &  Least Squares   & \\textbf{  F-statistic:       } &  5.356e+04   \\\\\n",
              "\\textbf{Date:}             & Fri, 03 May 2024 & \\textbf{  Prob (F-statistic):} &      0.00    \\\\\n",
              "\\textbf{Time:}             &     14:08:20     & \\textbf{  Log-Likelihood:    } & -6.7273e+05  \\\\\n",
              "\\textbf{No. Observations:} &      654504      & \\textbf{  AIC:               } &  1.345e+06   \\\\\n",
              "\\textbf{Df Residuals:}     &      654496      & \\textbf{  BIC:               } &  1.346e+06   \\\\\n",
              "\\textbf{Df Model:}         &           7      & \\textbf{                     } &              \\\\\n",
              "\\textbf{Covariance Type:}  &    nonrobust     & \\textbf{                     } &              \\\\\n",
              "\\bottomrule\n",
              "\\end{tabular}\n",
              "\\begin{tabular}{lcccccc}\n",
              "                          & \\textbf{coef} & \\textbf{std err} & \\textbf{t} & \\textbf{P$> |$t$|$} & \\textbf{[0.025} & \\textbf{0.975]}  \\\\\n",
              "\\midrule\n",
              "\\textbf{Intercept}        &      11.0413  &        0.004     &  2798.434  &         0.000        &       11.034    &       11.049     \\\\\n",
              "\\textbf{Neighbor}         &      -0.2008  &        0.013     &   -15.445  &         0.000        &       -0.226    &       -0.175     \\\\\n",
              "\\textbf{Post}             &       0.1033  &        0.003     &    34.310  &         0.000        &        0.097    &        0.109     \\\\\n",
              "\\textbf{Neighbor:Post}    &       0.2424  &        0.014     &    17.786  &         0.000        &        0.216    &        0.269     \\\\\n",
              "\\textbf{Prem\\_before}     &       0.2395  &        0.005     &    47.398  &         0.000        &        0.230    &        0.249     \\\\\n",
              "\\textbf{log(Price)}       &       0.3642  &        0.001     &   541.491  &         0.000        &        0.363    &        0.366     \\\\\n",
              "\\textbf{log(Penetration)} &       0.6731  &        0.004     &   170.840  &         0.000        &        0.665    &        0.681     \\\\\n",
              "\\textbf{log(GDP)}         &       0.0007  &        0.000     &     4.663  &         0.000        &        0.000    &        0.001     \\\\\n",
              "\\bottomrule\n",
              "\\end{tabular}\n",
              "\\begin{tabular}{lclc}\n",
              "\\textbf{Omnibus:}       & 359298.405 & \\textbf{  Durbin-Watson:     } &      0.617   \\\\\n",
              "\\textbf{Prob(Omnibus):} &    0.000   & \\textbf{  Jarque-Bera (JB):  } & 7923050.019  \\\\\n",
              "\\textbf{Skew:}          &    2.189   & \\textbf{  Prob(JB):          } &       0.00   \\\\\n",
              "\\textbf{Kurtosis:}      &   19.473   & \\textbf{  Cond. No.          } &       161.   \\\\\n",
              "\\bottomrule\n",
              "\\end{tabular}\n",
              "%\\caption{OLS Regression Results}\n",
              "\\end{center}\n",
              "\n",
              "Notes: \\newline\n",
              " [1] Standard Errors assume that the covariance matrix of the errors is correctly specified."
            ],
            "text/plain": [
              "<class 'statsmodels.iolib.summary.Summary'>\n",
              "\"\"\"\n",
              "                            OLS Regression Results                            \n",
              "==============================================================================\n",
              "Dep. Variable:          log(Coverage)   R-squared:                       0.364\n",
              "Model:                            OLS   Adj. R-squared:                  0.364\n",
              "Method:                 Least Squares   F-statistic:                 5.356e+04\n",
              "Date:                Fri, 03 May 2024   Prob (F-statistic):               0.00\n",
              "Time:                        14:08:20   Log-Likelihood:            -6.7273e+05\n",
              "No. Observations:              654504   AIC:                         1.345e+06\n",
              "Df Residuals:                  654496   BIC:                         1.346e+06\n",
              "Df Model:                           7                                         \n",
              "Covariance Type:            nonrobust                                         \n",
              "====================================================================================\n",
              "                       coef    std err          t      P>|t|      [0.025      0.975]\n",
              "------------------------------------------------------------------------------------\n",
              "Intercept           11.0413      0.004   2798.434      0.000      11.034      11.049\n",
              "Neighbor            -0.2008      0.013    -15.445      0.000      -0.226      -0.175\n",
              "Post                 0.1033      0.003     34.310      0.000       0.097       0.109\n",
              "Neighbor:Post        0.2424      0.014     17.786      0.000       0.216       0.269\n",
              "Prem_before          0.2395      0.005     47.398      0.000       0.230       0.249\n",
              "log(Price)           0.3642      0.001    541.491      0.000       0.363       0.366\n",
              "log(Penetration)     0.6731      0.004    170.840      0.000       0.665       0.681\n",
              "log(GDP)             0.0007      0.000      4.663      0.000       0.000       0.001\n",
              "==============================================================================\n",
              "Omnibus:                   359298.405   Durbin-Watson:                   0.617\n",
              "Prob(Omnibus):                  0.000   Jarque-Bera (JB):          7923050.019\n",
              "Skew:                           2.189   Prob(JB):                         0.00\n",
              "Kurtosis:                      19.473   Cond. No.                         161.\n",
              "==============================================================================\n",
              "\n",
              "Notes:\n",
              "[1] Standard Errors assume that the covariance matrix of the errors is correctly specified.\n",
              "\"\"\""
            ]
          },
          "execution_count": 4,
          "metadata": {},
          "output_type": "execute_result"
        }
      ],
      "source": [
        "model1 = smf.ols(\"log(Coverage) ~ Neighbor*Post+Prem_before+log(Price)+log(Penetration)+log(GDP)\", data=df[(df[\"Disaster\"]==0)]).fit()\n",
        "model1.summary()"
      ]
    },
    {
      "cell_type": "code",
      "execution_count": 6,
      "metadata": {
        "colab": {
          "base_uri": "https://localhost:8080/",
          "height": 548
        },
        "id": "f6k19DrLd-kN",
        "outputId": "9a42a08b-ac70-4912-9f22-459b96aba6a3"
      },
      "outputs": [
        {
          "data": {
            "text/html": [
              "<table style=\"text-align:center\"><tr><td colspan=\"3\" style=\"border-bottom: 1px solid black\"></td></tr>\n",
              "<tr><td style=\"text-align:left\"></td><td colspan=\"2\"><em>Dependent variable: log(Coverage)</em></td></tr><tr><td style=\"text-align:left\"></td><tr><td style=\"text-align:left\"></td><td>(1)</td><td>(2)</td></tr>\n",
              "<tr><td colspan=\"3\" style=\"border-bottom: 1px solid black\"></td></tr>\n",
              "\n",
              "<tr><td style=\"text-align:left\">Intercept</td><td>12.030<sup>***</sup></td><td>11.041<sup>***</sup></td></tr>\n",
              "<tr><td style=\"text-align:left\"></td><td>(0.004)</td><td>(0.004)</td></tr>\n",
              "<tr><td style=\"text-align:left\">Neighbor</td><td>-0.213<sup>***</sup></td><td>-0.201<sup>***</sup></td></tr>\n",
              "<tr><td style=\"text-align:left\"></td><td>(0.016)</td><td>(0.013)</td></tr>\n",
              "<tr><td style=\"text-align:left\">Neighbor:Post</td><td>0.382<sup>***</sup></td><td>0.242<sup>***</sup></td></tr>\n",
              "<tr><td style=\"text-align:left\"></td><td>(0.017)</td><td>(0.014)</td></tr>\n",
              "<tr><td style=\"text-align:left\">Post</td><td>0.187<sup>***</sup></td><td>0.103<sup>***</sup></td></tr>\n",
              "<tr><td style=\"text-align:left\"></td><td>(0.004)</td><td>(0.003)</td></tr>\n",
              "<tr><td style=\"text-align:left\">Prem_before</td><td></td><td>0.239<sup>***</sup></td></tr>\n",
              "<tr><td style=\"text-align:left\"></td><td></td><td>(0.005)</td></tr>\n",
              "<tr><td style=\"text-align:left\">log(GDP)</td><td></td><td>0.001<sup>***</sup></td></tr>\n",
              "<tr><td style=\"text-align:left\"></td><td></td><td>(0.000)</td></tr>\n",
              "<tr><td style=\"text-align:left\">log(Penetration)</td><td></td><td>0.673<sup>***</sup></td></tr>\n",
              "<tr><td style=\"text-align:left\"></td><td></td><td>(0.004)</td></tr>\n",
              "<tr><td style=\"text-align:left\">log(Price)</td><td></td><td>0.364<sup>***</sup></td></tr>\n",
              "<tr><td style=\"text-align:left\"></td><td></td><td>(0.001)</td></tr>\n",
              "\n",
              "<td colspan=\"3\" style=\"border-bottom: 1px solid black\"></td></tr>\n",
              "<tr><td style=\"text-align: left\">Observations</td><td>654504</td><td>654504</td></tr><tr><td style=\"text-align: left\">R<sup>2</sup></td><td>0.007</td><td>0.364</td></tr><tr><td style=\"text-align: left\">Adjusted R<sup>2</sup></td><td>0.007</td><td>0.364</td></tr><tr><td style=\"text-align: left\">Residual Std. Error</td><td>0.845 (df=654500)</td><td>0.676 (df=654496)</td></tr><tr><td style=\"text-align: left\">F Statistic</td><td>1480.255<sup>***</sup> (df=3; 654500)</td><td>53559.211<sup>***</sup> (df=7; 654496)</td></tr>\n",
              "<tr><td colspan=\"3\" style=\"border-bottom: 1px solid black\"></td></tr><tr><td style=\"text-align: left\">Note:</td><td colspan=\"2\" style=\"text-align: right\"><sup>*</sup>p&lt;0.1; <sup>**</sup>p&lt;0.05; <sup>***</sup>p&lt;0.01</td></tr></table>"
            ],
            "text/plain": [
              "<stargazer.stargazer.Stargazer at 0x131074050>"
            ]
          },
          "execution_count": 6,
          "metadata": {},
          "output_type": "execute_result"
        }
      ],
      "source": [
        "raws1 = smf.ols(\"log(Coverage) ~ Neighbor*Post\", data=df[(df[\"Disaster\"]==0)]).fit()\n",
        "stargazer = Stargazer([raws1, model1])\n",
        "stargazer\n"
      ]
    },
    {
      "cell_type": "code",
      "execution_count": 7,
      "metadata": {
        "colab": {
          "base_uri": "https://localhost:8080/"
        },
        "id": "TyIWeVpoe2JU",
        "outputId": "eb7c4ff0-b282-4106-a0ca-59aab05e9a55"
      },
      "outputs": [],
      "source": [
        "with open(\"../lib/table/did1.tex\", \"w\") as f:\n",
        "    f.write(tablelize(stargazer))"
      ]
    },
    {
      "cell_type": "markdown",
      "metadata": {
        "id": "FVStecdwkJSj"
      },
      "source": [
        "### 远vs近"
      ]
    },
    {
      "cell_type": "code",
      "execution_count": 5,
      "metadata": {
        "colab": {
          "base_uri": "https://localhost:8080/",
          "height": 593
        },
        "id": "eOjxgW5BkJSj",
        "outputId": "a5944d7d-c589-41b8-b35c-2538600621f2"
      },
      "outputs": [
        {
          "data": {
            "text/html": [
              "<table class=\"simpletable\">\n",
              "<caption>OLS Regression Results</caption>\n",
              "<tr>\n",
              "  <th>Dep. Variable:</th>      <td>log(Coverage)</td>  <th>  R-squared:         </th>  <td>   0.385</td>  \n",
              "</tr>\n",
              "<tr>\n",
              "  <th>Model:</th>                   <td>OLS</td>       <th>  Adj. R-squared:    </th>  <td>   0.385</td>  \n",
              "</tr>\n",
              "<tr>\n",
              "  <th>Method:</th>             <td>Least Squares</td>  <th>  F-statistic:       </th>  <td>6.352e+04</td> \n",
              "</tr>\n",
              "<tr>\n",
              "  <th>Date:</th>             <td>Fri, 03 May 2024</td> <th>  Prob (F-statistic):</th>   <td>  0.00</td>   \n",
              "</tr>\n",
              "<tr>\n",
              "  <th>Time:</th>                 <td>14:08:39</td>     <th>  Log-Likelihood:    </th> <td>-7.1244e+05</td>\n",
              "</tr>\n",
              "<tr>\n",
              "  <th>No. Observations:</th>      <td>709271</td>      <th>  AIC:               </th>  <td>1.425e+06</td> \n",
              "</tr>\n",
              "<tr>\n",
              "  <th>Df Residuals:</th>          <td>709263</td>      <th>  BIC:               </th>  <td>1.425e+06</td> \n",
              "</tr>\n",
              "<tr>\n",
              "  <th>Df Model:</th>              <td>     7</td>      <th>                     </th>      <td> </td>     \n",
              "</tr>\n",
              "<tr>\n",
              "  <th>Covariance Type:</th>      <td>nonrobust</td>    <th>                     </th>      <td> </td>     \n",
              "</tr>\n",
              "</table>\n",
              "<table class=\"simpletable\">\n",
              "<tr>\n",
              "          <td></td>            <th>coef</th>     <th>std err</th>      <th>t</th>      <th>P>|t|</th>  <th>[0.025</th>    <th>0.975]</th>  \n",
              "</tr>\n",
              "<tr>\n",
              "  <th>Intercept</th>        <td>   10.9849</td> <td>    0.004</td> <td> 2873.265</td> <td> 0.000</td> <td>   10.977</td> <td>   10.992</td>\n",
              "</tr>\n",
              "<tr>\n",
              "  <th>Disaster</th>         <td>   -0.0066</td> <td>    0.005</td> <td>   -1.437</td> <td> 0.151</td> <td>   -0.016</td> <td>    0.002</td>\n",
              "</tr>\n",
              "<tr>\n",
              "  <th>Post</th>             <td>    0.0996</td> <td>    0.003</td> <td>   33.835</td> <td> 0.000</td> <td>    0.094</td> <td>    0.105</td>\n",
              "</tr>\n",
              "<tr>\n",
              "  <th>Disaster:Post</th>    <td>   -0.1453</td> <td>    0.005</td> <td>  -26.512</td> <td> 0.000</td> <td>   -0.156</td> <td>   -0.135</td>\n",
              "</tr>\n",
              "<tr>\n",
              "  <th>Prem_before</th>      <td>    0.2444</td> <td>    0.005</td> <td>   48.083</td> <td> 0.000</td> <td>    0.234</td> <td>    0.254</td>\n",
              "</tr>\n",
              "<tr>\n",
              "  <th>log(Price)</th>       <td>    0.3823</td> <td>    0.001</td> <td>  588.576</td> <td> 0.000</td> <td>    0.381</td> <td>    0.384</td>\n",
              "</tr>\n",
              "<tr>\n",
              "  <th>log(Penetration)</th> <td>    0.6809</td> <td>    0.004</td> <td>  184.430</td> <td> 0.000</td> <td>    0.674</td> <td>    0.688</td>\n",
              "</tr>\n",
              "<tr>\n",
              "  <th>log(GDP)</th>         <td>    0.0007</td> <td>    0.000</td> <td>    5.245</td> <td> 0.000</td> <td>    0.000</td> <td>    0.001</td>\n",
              "</tr>\n",
              "</table>\n",
              "<table class=\"simpletable\">\n",
              "<tr>\n",
              "  <th>Omnibus:</th>       <td>422373.452</td> <th>  Durbin-Watson:     </th>   <td>   0.623</td>  \n",
              "</tr>\n",
              "<tr>\n",
              "  <th>Prob(Omnibus):</th>   <td> 0.000</td>   <th>  Jarque-Bera (JB):  </th> <td>11762881.522</td>\n",
              "</tr>\n",
              "<tr>\n",
              "  <th>Skew:</th>            <td> 2.378</td>   <th>  Prob(JB):          </th>   <td>    0.00</td>  \n",
              "</tr>\n",
              "<tr>\n",
              "  <th>Kurtosis:</th>        <td>22.376</td>   <th>  Cond. No.          </th>   <td>    67.8</td>  \n",
              "</tr>\n",
              "</table><br/><br/>Notes:<br/>[1] Standard Errors assume that the covariance matrix of the errors is correctly specified."
            ],
            "text/latex": [
              "\\begin{center}\n",
              "\\begin{tabular}{lclc}\n",
              "\\toprule\n",
              "\\textbf{Dep. Variable:}    &  log(Coverage)   & \\textbf{  R-squared:         } &      0.385    \\\\\n",
              "\\textbf{Model:}            &       OLS        & \\textbf{  Adj. R-squared:    } &      0.385    \\\\\n",
              "\\textbf{Method:}           &  Least Squares   & \\textbf{  F-statistic:       } &  6.352e+04    \\\\\n",
              "\\textbf{Date:}             & Fri, 03 May 2024 & \\textbf{  Prob (F-statistic):} &      0.00     \\\\\n",
              "\\textbf{Time:}             &     14:08:39     & \\textbf{  Log-Likelihood:    } & -7.1244e+05   \\\\\n",
              "\\textbf{No. Observations:} &      709271      & \\textbf{  AIC:               } &  1.425e+06    \\\\\n",
              "\\textbf{Df Residuals:}     &      709263      & \\textbf{  BIC:               } &  1.425e+06    \\\\\n",
              "\\textbf{Df Model:}         &           7      & \\textbf{                     } &               \\\\\n",
              "\\textbf{Covariance Type:}  &    nonrobust     & \\textbf{                     } &               \\\\\n",
              "\\bottomrule\n",
              "\\end{tabular}\n",
              "\\begin{tabular}{lcccccc}\n",
              "                          & \\textbf{coef} & \\textbf{std err} & \\textbf{t} & \\textbf{P$> |$t$|$} & \\textbf{[0.025} & \\textbf{0.975]}  \\\\\n",
              "\\midrule\n",
              "\\textbf{Intercept}        &      10.9849  &        0.004     &  2873.265  &         0.000        &       10.977    &       10.992     \\\\\n",
              "\\textbf{Disaster}         &      -0.0066  &        0.005     &    -1.437  &         0.151        &       -0.016    &        0.002     \\\\\n",
              "\\textbf{Post}             &       0.0996  &        0.003     &    33.835  &         0.000        &        0.094    &        0.105     \\\\\n",
              "\\textbf{Disaster:Post}    &      -0.1453  &        0.005     &   -26.512  &         0.000        &       -0.156    &       -0.135     \\\\\n",
              "\\textbf{Prem\\_before}     &       0.2444  &        0.005     &    48.083  &         0.000        &        0.234    &        0.254     \\\\\n",
              "\\textbf{log(Price)}       &       0.3823  &        0.001     &   588.576  &         0.000        &        0.381    &        0.384     \\\\\n",
              "\\textbf{log(Penetration)} &       0.6809  &        0.004     &   184.430  &         0.000        &        0.674    &        0.688     \\\\\n",
              "\\textbf{log(GDP)}         &       0.0007  &        0.000     &     5.245  &         0.000        &        0.000    &        0.001     \\\\\n",
              "\\bottomrule\n",
              "\\end{tabular}\n",
              "\\begin{tabular}{lclc}\n",
              "\\textbf{Omnibus:}       & 422373.452 & \\textbf{  Durbin-Watson:     } &      0.623    \\\\\n",
              "\\textbf{Prob(Omnibus):} &    0.000   & \\textbf{  Jarque-Bera (JB):  } & 11762881.522  \\\\\n",
              "\\textbf{Skew:}          &    2.378   & \\textbf{  Prob(JB):          } &       0.00    \\\\\n",
              "\\textbf{Kurtosis:}      &   22.376   & \\textbf{  Cond. No.          } &       67.8    \\\\\n",
              "\\bottomrule\n",
              "\\end{tabular}\n",
              "%\\caption{OLS Regression Results}\n",
              "\\end{center}\n",
              "\n",
              "Notes: \\newline\n",
              " [1] Standard Errors assume that the covariance matrix of the errors is correctly specified."
            ],
            "text/plain": [
              "<class 'statsmodels.iolib.summary.Summary'>\n",
              "\"\"\"\n",
              "                            OLS Regression Results                            \n",
              "==============================================================================\n",
              "Dep. Variable:          log(Coverage)   R-squared:                       0.385\n",
              "Model:                            OLS   Adj. R-squared:                  0.385\n",
              "Method:                 Least Squares   F-statistic:                 6.352e+04\n",
              "Date:                Fri, 03 May 2024   Prob (F-statistic):               0.00\n",
              "Time:                        14:08:39   Log-Likelihood:            -7.1244e+05\n",
              "No. Observations:              709271   AIC:                         1.425e+06\n",
              "Df Residuals:                  709263   BIC:                         1.425e+06\n",
              "Df Model:                           7                                         \n",
              "Covariance Type:            nonrobust                                         \n",
              "====================================================================================\n",
              "                       coef    std err          t      P>|t|      [0.025      0.975]\n",
              "------------------------------------------------------------------------------------\n",
              "Intercept           10.9849      0.004   2873.265      0.000      10.977      10.992\n",
              "Disaster            -0.0066      0.005     -1.437      0.151      -0.016       0.002\n",
              "Post                 0.0996      0.003     33.835      0.000       0.094       0.105\n",
              "Disaster:Post       -0.1453      0.005    -26.512      0.000      -0.156      -0.135\n",
              "Prem_before          0.2444      0.005     48.083      0.000       0.234       0.254\n",
              "log(Price)           0.3823      0.001    588.576      0.000       0.381       0.384\n",
              "log(Penetration)     0.6809      0.004    184.430      0.000       0.674       0.688\n",
              "log(GDP)             0.0007      0.000      5.245      0.000       0.000       0.001\n",
              "==============================================================================\n",
              "Omnibus:                   422373.452   Durbin-Watson:                   0.623\n",
              "Prob(Omnibus):                  0.000   Jarque-Bera (JB):         11762881.522\n",
              "Skew:                           2.378   Prob(JB):                         0.00\n",
              "Kurtosis:                      22.376   Cond. No.                         67.8\n",
              "==============================================================================\n",
              "\n",
              "Notes:\n",
              "[1] Standard Errors assume that the covariance matrix of the errors is correctly specified.\n",
              "\"\"\""
            ]
          },
          "execution_count": 5,
          "metadata": {},
          "output_type": "execute_result"
        }
      ],
      "source": [
        "model2 = smf.ols(\"log(Coverage) ~ Disaster*Post+Prem_before+log(Price)+log(Penetration)+log(GDP)\", data=df[(df[\"Neighbor\"]==0)]).fit()\n",
        "model2.summary()"
      ]
    },
    {
      "cell_type": "code",
      "execution_count": 8,
      "metadata": {
        "colab": {
          "base_uri": "https://localhost:8080/",
          "height": 548
        },
        "id": "orfIZgpafs5Q",
        "outputId": "af333308-678b-4188-c0d0-941d081a41c5"
      },
      "outputs": [
        {
          "data": {
            "text/html": [
              "<table style=\"text-align:center\"><tr><td colspan=\"3\" style=\"border-bottom: 1px solid black\"></td></tr>\n",
              "<tr><td style=\"text-align:left\"></td><td colspan=\"2\"><em>Dependent variable: log(Coverage)</em></td></tr><tr><td style=\"text-align:left\"></td><tr><td style=\"text-align:left\"></td><td>(1)</td><td>(2)</td></tr>\n",
              "<tr><td colspan=\"3\" style=\"border-bottom: 1px solid black\"></td></tr>\n",
              "\n",
              "<tr><td style=\"text-align:left\">Disaster</td><td>0.131<sup>***</sup></td><td>-0.007<sup></sup></td></tr>\n",
              "<tr><td style=\"text-align:left\"></td><td>(0.006)</td><td>(0.005)</td></tr>\n",
              "<tr><td style=\"text-align:left\">Disaster:Post</td><td>-0.342<sup>***</sup></td><td>-0.145<sup>***</sup></td></tr>\n",
              "<tr><td style=\"text-align:left\"></td><td>(0.007)</td><td>(0.005)</td></tr>\n",
              "<tr><td style=\"text-align:left\">Intercept</td><td>12.030<sup>***</sup></td><td>10.985<sup>***</sup></td></tr>\n",
              "<tr><td style=\"text-align:left\"></td><td>(0.004)</td><td>(0.004)</td></tr>\n",
              "<tr><td style=\"text-align:left\">Post</td><td>0.187<sup>***</sup></td><td>0.100<sup>***</sup></td></tr>\n",
              "<tr><td style=\"text-align:left\"></td><td>(0.004)</td><td>(0.003)</td></tr>\n",
              "<tr><td style=\"text-align:left\">Prem_before</td><td></td><td>0.244<sup>***</sup></td></tr>\n",
              "<tr><td style=\"text-align:left\"></td><td></td><td>(0.005)</td></tr>\n",
              "<tr><td style=\"text-align:left\">log(GDP)</td><td></td><td>0.001<sup>***</sup></td></tr>\n",
              "<tr><td style=\"text-align:left\"></td><td></td><td>(0.000)</td></tr>\n",
              "<tr><td style=\"text-align:left\">log(Penetration)</td><td></td><td>0.681<sup>***</sup></td></tr>\n",
              "<tr><td style=\"text-align:left\"></td><td></td><td>(0.004)</td></tr>\n",
              "<tr><td style=\"text-align:left\">log(Price)</td><td></td><td>0.382<sup>***</sup></td></tr>\n",
              "<tr><td style=\"text-align:left\"></td><td></td><td>(0.001)</td></tr>\n",
              "\n",
              "<td colspan=\"3\" style=\"border-bottom: 1px solid black\"></td></tr>\n",
              "<tr><td style=\"text-align: left\">Observations</td><td>709271</td><td>709271</td></tr><tr><td style=\"text-align: left\">R<sup>2</sup></td><td>0.007</td><td>0.385</td></tr><tr><td style=\"text-align: left\">Adjusted R<sup>2</sup></td><td>0.007</td><td>0.385</td></tr><tr><td style=\"text-align: left\">Residual Std. Error</td><td>0.840 (df=709267)</td><td>0.661 (df=709263)</td></tr><tr><td style=\"text-align: left\">F Statistic</td><td>1731.394<sup>***</sup> (df=3; 709267)</td><td>63522.959<sup>***</sup> (df=7; 709263)</td></tr>\n",
              "<tr><td colspan=\"3\" style=\"border-bottom: 1px solid black\"></td></tr><tr><td style=\"text-align: left\">Note:</td><td colspan=\"2\" style=\"text-align: right\"><sup>*</sup>p&lt;0.1; <sup>**</sup>p&lt;0.05; <sup>***</sup>p&lt;0.01</td></tr></table>"
            ],
            "text/plain": [
              "<stargazer.stargazer.Stargazer at 0x130f01fa0>"
            ]
          },
          "execution_count": 8,
          "metadata": {},
          "output_type": "execute_result"
        }
      ],
      "source": [
        "raws2 = smf.ols(\"log(Coverage) ~ Disaster*Post\", data=df[(df[\"Neighbor\"]==0)]).fit()\n",
        "stargazer = Stargazer([raws2, model2])\n",
        "stargazer\n"
      ]
    },
    {
      "cell_type": "code",
      "execution_count": 9,
      "metadata": {
        "colab": {
          "base_uri": "https://localhost:8080/"
        },
        "id": "d-Hee9JfizIk",
        "outputId": "00a5e781-09b2-4a2a-9d72-0acb23da030e"
      },
      "outputs": [],
      "source": [
        "with open(\"../lib/table/did2.tex\", \"w\") as f:\n",
        "    f.write(tablelize(stargazer))"
      ]
    },
    {
      "cell_type": "markdown",
      "metadata": {},
      "source": [
        "## 描述性统计"
      ]
    },
    {
      "cell_type": "code",
      "execution_count": 10,
      "metadata": {
        "colab": {
          "base_uri": "https://localhost:8080/"
        },
        "id": "6O-FguqyrY2S",
        "outputId": "e84187e2-1599-474b-cfe1-c40055f3909e"
      },
      "outputs": [],
      "source": [
        "descol=[\"Coverage\",\"Disaster\",\"Neighbor\",\"Post\",\"Prem_before\",\"Price\",\"Area\"]\n",
        "todesc=df[descol].astype(float).describe()\n",
        "todesc=todesc.astype(int).astype(str).T.rename(columns={\"50%\":\"median\"})\n",
        "with open(\"../lib/table/desc.tex\", \"w\") as f:\n",
        "    print(todesc[['count', 'mean', 'std', 'min', 'median', 'max']].to_latex().replace(\"_\",\"\\\\_\"), file=f)\n",
        "with open(\"../lib/table/corr.tex\", \"w\") as f:\n",
        "    print(df[descol].corr().to_latex().replace(\"_\",\"\\\\_\"), file=f)"
      ]
    },
    {
      "cell_type": "code",
      "execution_count": 11,
      "metadata": {
        "colab": {
          "base_uri": "https://localhost:8080/",
          "height": 475
        },
        "id": "krp4z60Yxpn3",
        "outputId": "f5c2fd07-6660-44db-a468-8c7c73713728"
      },
      "outputs": [
        {
          "data": {
            "text/plain": [
              "<Axes: xlabel='Coverage', ylabel='Count'>"
            ]
          },
          "execution_count": 11,
          "metadata": {},
          "output_type": "execute_result"
        },
        {
          "data": {
            "image/png": "[encoded data removed]",
            "text/plain": [
              "<Figure size 640x480 with 1 Axes>"
            ]
          },
          "metadata": {},
          "output_type": "display_data"
        }
      ],
      "source": [
        "x=0.01\n",
        "coverage=original_df[\"保险金额\"]\n",
        "coverage.name=\"Coverage\"\n",
        "coverage=coverage[coverage.between(coverage.quantile(x)+10,coverage.quantile(1-x))]\n",
        "coverage=log(coverage)\n",
        "sns.histplot(coverage,kde=True)"
      ]
    },
    {
      "cell_type": "markdown",
      "metadata": {},
      "source": [
        "## 进一步分析"
      ]
    },
    {
      "cell_type": "code",
      "execution_count": 10,
      "metadata": {},
      "outputs": [
        {
          "name": "stdout",
          "output_type": "stream",
          "text": [
            "Optimization terminated successfully.\n",
            "         Current function value: 0.010120\n",
            "         Iterations 13\n",
            "Optimization terminated successfully.\n",
            "         Current function value: 0.010129\n",
            "         Iterations 13\n"
          ]
        },
        {
          "data": {
            "text/html": [
              "<table style=\"text-align:center\"><tr><td colspan=\"3\" style=\"border-bottom: 1px solid black\"></td></tr>\n",
              "<tr><td style=\"text-align:left\"></td><td colspan=\"2\"><em>Dependent variable: claimed</em></td></tr><tr><td style=\"text-align:left\"></td><tr><td style=\"text-align:left\"></td><td>(1)</td><td>(2)</td></tr>\n",
              "<tr><td colspan=\"3\" style=\"border-bottom: 1px solid black\"></td></tr>\n",
              "\n",
              "<tr><td style=\"text-align:left\">Disaster</td><td>0.405<sup>**</sup></td><td>0.391<sup>**</sup></td></tr>\n",
              "<tr><td style=\"text-align:left\"></td><td>(0.169)</td><td>(0.169)</td></tr>\n",
              "<tr><td style=\"text-align:left\">Disaster:Post</td><td>0.630<sup>***</sup></td><td>0.622<sup>***</sup></td></tr>\n",
              "<tr><td style=\"text-align:left\"></td><td>(0.190)</td><td>(0.190)</td></tr>\n",
              "<tr><td style=\"text-align:left\">Intercept</td><td>-6.825<sup>***</sup></td><td>-4.664<sup>***</sup></td></tr>\n",
              "<tr><td style=\"text-align:left\"></td><td>(0.166)</td><td>(0.675)</td></tr>\n",
              "<tr><td style=\"text-align:left\">Post</td><td>-0.167<sup></sup></td><td>-0.158<sup></sup></td></tr>\n",
              "<tr><td style=\"text-align:left\"></td><td>(0.123)</td><td>(0.123)</td></tr>\n",
              "<tr><td style=\"text-align:left\">Prem_before</td><td>-2.299<sup>***</sup></td><td>-2.246<sup>***</sup></td></tr>\n",
              "<tr><td style=\"text-align:left\"></td><td>(0.708)</td><td>(0.709)</td></tr>\n",
              "<tr><td style=\"text-align:left\">log(Coverage)</td><td></td><td>-0.212<sup>***</sup></td></tr>\n",
              "<tr><td style=\"text-align:left\"></td><td></td><td>(0.067)</td></tr>\n",
              "<tr><td style=\"text-align:left\">log(GDP)</td><td>-0.001<sup></sup></td><td>-0.001<sup></sup></td></tr>\n",
              "<tr><td style=\"text-align:left\"></td><td>(0.006)</td><td>(0.006)</td></tr>\n",
              "<tr><td style=\"text-align:left\">log(Penetration)</td><td>-0.645<sup>***</sup></td><td>-0.551<sup>***</sup></td></tr>\n",
              "<tr><td style=\"text-align:left\"></td><td>(0.152)</td><td>(0.156)</td></tr>\n",
              "<tr><td style=\"text-align:left\">log(Price)</td><td>0.013<sup></sup></td><td>0.140<sup>**</sup></td></tr>\n",
              "<tr><td style=\"text-align:left\"></td><td>(0.030)</td><td>(0.061)</td></tr>\n",
              "\n",
              "<td colspan=\"3\" style=\"border-bottom: 1px solid black\"></td></tr>\n",
              "<tr><td style=\"text-align: left\">Observations</td><td>709271</td><td>709271</td></tr><tr><td style=\"text-align: left\">Pseudo R<sup>2</sup></td><td>0.012</td><td>0.013</td></tr>\n",
              "<tr><td colspan=\"3\" style=\"border-bottom: 1px solid black\"></td></tr><tr><td style=\"text-align: left\">Note:</td><td colspan=\"2\" style=\"text-align: right\"><sup>*</sup>p&lt;0.1; <sup>**</sup>p&lt;0.05; <sup>***</sup>p&lt;0.01</td></tr></table>"
            ],
            "text/plain": [
              "<stargazer.stargazer.Stargazer at 0x13131a5d0>"
            ]
          },
          "execution_count": 10,
          "metadata": {},
          "output_type": "execute_result"
        }
      ],
      "source": [
        "df[\"claimed\"]=df[\"total_claim\"].map(lambda x: 1 if x>0 else 0)\n",
        "claims = smf.logit(\"claimed ~ log(Coverage)+Disaster*Post+Prem_before+log(Price)+log(Penetration)+log(GDP)\", data=df[(df[\"Neighbor\"]==0)]).fit()\n",
        "rawsclaim = smf.logit(\"claimed ~ Disaster*Post+Prem_before+log(Price)+log(Penetration)+log(GDP)\", data=df[(df[\"Neighbor\"]==0)]).fit()\n",
        "stargazer = Stargazer([rawsclaim, claims])\n",
        "with open(\"../lib/table/claims.tex\", \"w\") as f:\n",
        "    f.write(tablelize(stargazer))\n",
        "stargazer\n",
        "# claims.summary()"
      ]
    },
    {
      "cell_type": "code",
      "execution_count": 12,
      "metadata": {},
      "outputs": [
        {
          "name": "stdout",
          "output_type": "stream",
          "text": [
            "Optimization terminated successfully.\n",
            "         Current function value: 0.069718\n",
            "         Iterations 11\n",
            "Optimization terminated successfully.\n",
            "         Current function value: 0.070766\n",
            "         Iterations 11\n"
          ]
        },
        {
          "data": {
            "text/html": [
              "<table style=\"text-align:center\"><tr><td colspan=\"5\" style=\"border-bottom: 1px solid black\"></td></tr>\n",
              "<tr><td style=\"text-align:left\"></td><tr><td></td><td colspan=\"1\">Claim</td><td colspan=\"1\">Claim</td><td colspan=\"1\">Renew</td><td colspan=\"1\">Renew</td></tr><tr><td style=\"text-align:left\"></td><td>(1)</td><td>(2)</td><td>(3)</td><td>(4)</td></tr>\n",
              "<tr><td colspan=\"5\" style=\"border-bottom: 1px solid black\"></td></tr>\n",
              "\n",
              "<tr><td style=\"text-align:left\">Disaster</td><td>0.405<sup>**</sup></td><td>0.391<sup>**</sup></td><td>-3.773<sup>***</sup></td><td>-3.706<sup>***</sup></td></tr>\n",
              "<tr><td style=\"text-align:left\"></td><td>(0.169)</td><td>(0.169)</td><td>(0.221)</td><td>(0.222)</td></tr>\n",
              "<tr><td style=\"text-align:left\">Disaster:Post</td><td>0.630<sup>***</sup></td><td>0.622<sup>***</sup></td><td>2.243<sup>***</sup></td><td>2.232<sup>***</sup></td></tr>\n",
              "<tr><td style=\"text-align:left\"></td><td>(0.190)</td><td>(0.190)</td><td>(0.234)</td><td>(0.235)</td></tr>\n",
              "<tr><td style=\"text-align:left\">Intercept</td><td>-6.825<sup>***</sup></td><td>-4.664<sup>***</sup></td><td>-5.228<sup>***</sup></td><td>-11.891<sup>***</sup></td></tr>\n",
              "<tr><td style=\"text-align:left\"></td><td>(0.166)</td><td>(0.675)</td><td>(0.053)</td><td>(0.169)</td></tr>\n",
              "<tr><td style=\"text-align:left\">Post</td><td>-0.167<sup></sup></td><td>-0.158<sup></sup></td><td>-0.556<sup>***</sup></td><td>-0.525<sup>***</sup></td></tr>\n",
              "<tr><td style=\"text-align:left\"></td><td>(0.123)</td><td>(0.123)</td><td>(0.028)</td><td>(0.029)</td></tr>\n",
              "<tr><td style=\"text-align:left\">Prem_before</td><td>-2.299<sup>***</sup></td><td>-2.246<sup>***</sup></td><td>4.428<sup>***</sup></td><td>4.338<sup>***</sup></td></tr>\n",
              "<tr><td style=\"text-align:left\"></td><td>(0.708)</td><td>(0.709)</td><td>(0.020)</td><td>(0.020)</td></tr>\n",
              "<tr><td style=\"text-align:left\">log(Coverage)</td><td></td><td>-0.212<sup>***</sup></td><td></td><td>0.668<sup>***</sup></td></tr>\n",
              "<tr><td style=\"text-align:left\"></td><td></td><td>(0.067)</td><td></td><td>(0.015)</td></tr>\n",
              "<tr><td style=\"text-align:left\">log(GDP)</td><td>-0.001<sup></sup></td><td>-0.001<sup></sup></td><td>0.013<sup>***</sup></td><td>0.013<sup>***</sup></td></tr>\n",
              "<tr><td style=\"text-align:left\"></td><td>(0.006)</td><td>(0.006)</td><td>(0.002)</td><td>(0.002)</td></tr>\n",
              "<tr><td style=\"text-align:left\">log(Penetration)</td><td>-0.645<sup>***</sup></td><td>-0.551<sup>***</sup></td><td>2.541<sup>***</sup></td><td>2.448<sup>***</sup></td></tr>\n",
              "<tr><td style=\"text-align:left\"></td><td>(0.152)</td><td>(0.156)</td><td>(0.056)</td><td>(0.056)</td></tr>\n",
              "<tr><td style=\"text-align:left\">log(Price)</td><td>0.013<sup></sup></td><td>0.140<sup>**</sup></td><td>0.499<sup>***</sup></td><td>0.031<sup>***</sup></td></tr>\n",
              "<tr><td style=\"text-align:left\"></td><td>(0.030)</td><td>(0.061)</td><td>(0.011)</td><td>(0.010)</td></tr>\n",
              "\n",
              "<td colspan=\"5\" style=\"border-bottom: 1px solid black\"></td></tr>\n",
              "<tr><td style=\"text-align: left\">Observations</td><td>709271</td><td>709271</td><td>709271</td><td>709271</td></tr><tr><td style=\"text-align: left\">Pseudo R<sup>2</sup></td><td>0.012</td><td>0.013</td><td>0.368</td><td>0.377</td></tr>\n",
              "<tr><td colspan=\"5\" style=\"border-bottom: 1px solid black\"></td></tr><tr><td style=\"text-align: left\">Note:</td><td colspan=\"4\" style=\"text-align: right\"><sup>*</sup>p&lt;0.1; <sup>**</sup>p&lt;0.05; <sup>***</sup>p&lt;0.01</td></tr></table>"
            ],
            "text/plain": [
              "<stargazer.stargazer.Stargazer at 0x1305bc7d0>"
            ]
          },
          "execution_count": 12,
          "metadata": {},
          "output_type": "execute_result"
        }
      ],
      "source": [
        "treated = df[df[\"Neighbor\"]==0].copy()\n",
        "treated[\"renew\"]=treated[\"下年保单号\"].map(lambda x: 1 if x else 0)\n",
        "renew = smf.logit(\"renew ~ log(Coverage)+Disaster*Post+Prem_before+log(Price)+log(Penetration)+log(GDP)\", data=treated).fit()\n",
        "rawsrenew = smf.logit(\"renew  ~ Disaster*Post+Prem_before+log(Price)+log(Penetration)+log(GDP)\", data=treated).fit()\n",
        "stargazer = Stargazer([rawsclaim,claims,rawsrenew, renew])\n",
        "stargazer.custom_columns(['Claim', 'Claim', \"Renew\", \"Renew\"])\n",
        "with open(\"../lib/table/renew.tex\", \"w\") as f:\n",
        "    f.write(tablelize(stargazer))\n",
        "stargazer\n",
        "# claims.summary()"
      ]
    },
    {
      "cell_type": "markdown",
      "metadata": {},
      "source": [
        "## 稳健性测试"
      ]
    },
    {
      "cell_type": "code",
      "execution_count": 14,
      "metadata": {},
      "outputs": [],
      "source": [
        "# def robust_test(category=\"Disaster\", cond=False):\n",
        "#     df[\"treated\"]=df[category]\n",
        "#     df[\"Quarter_before\"] = df[\"maxpost\"].map(\n",
        "#         lambda x: x // 90  if (x < 0 and x > -365) else None\n",
        "#     )\n",
        "#     df[\"Quarter_after\"] = df[\"minpost\"].map(\n",
        "#         lambda x: x // 90 if (x > 0 and x < 365) else None\n",
        "#     )\n",
        "#     if category == \"Disaster\":\n",
        "#         df[\"Quarter_before\"] = df[\"Quarter_after\"].fillna(\n",
        "#             (\n",
        "#                 pd.to_datetime(df[\"maxraining_after\"])\n",
        "#                 - pd.to_datetime(df[\"保险起期\"], unit=\"s\")\n",
        "#             ).dt.days.map(lambda x: x // 90 if (x <= 365 and x >= 0) else None)\n",
        "#         )\n",
        "#         df[\"Quarter_after\"] = df[\"Quarter_before\"].fillna(\n",
        "#             -(\n",
        "#                 pd.to_datetime(df[\"保险起期\"], unit=\"s\")\n",
        "#                 - pd.to_datetime(df[\"maxraining_before\"])\n",
        "#             ).dt.days.map(lambda x: x // 90  if (x <= 365 and x > 0) else None)\n",
        "#         )\n",
        "#     df[\"Quarter\"] = df[\"Quarter_before\"].fillna(df[\"Quarter_after\"])\n",
        "#     y = -4 if category == \"Disaster\" else -3\n",
        "#     data = df[df[\"Quarter\"].between(y, 0)].copy()\n",
        "#     reg_str = \"log(Coverage) ~ treated*C(Quarter)\"\n",
        "#     if cond:\n",
        "#         reg_str += \"+Prem_before+Price+Area\"\n",
        "#     model = smf.ols(\n",
        "#         reg_str,\n",
        "#         data=data,\n",
        "#     ).fit()\n",
        "#     robust=df[[\"Disaster\",\"Neighbor\", \"Quarter\", \"Coverage\"]]\n",
        "#     robust.to_parquet(f\"../data/robust_{category}.parquet\")\n",
        "#     return model\n",
        "\n",
        "\n",
        "# stargazer = Stargazer(\n",
        "#     [robust_test(i, j) for i in [\"Disaster\", \"Neighbor\"] for j in [False, True]]\n",
        "# )\n",
        "# # stargazer.custom_columns([\"Disaster\", \"Disaster\", \"Neighbor\", \"Neighbor\"])\n",
        "# # with open(\"../lib/table/robust.tex\", \"w\") as f:\n",
        "# #     f.write(tablelize(stargazer))\n",
        "# stargazer"
      ]
    },
    {
      "cell_type": "code",
      "execution_count": 15,
      "metadata": {},
      "outputs": [
        {
          "data": {
            "text/html": [
              "<table style=\"text-align:center\"><tr><td colspan=\"5\" style=\"border-bottom: 1px solid black\"></td></tr>\n",
              "<tr><td style=\"text-align:left\"></td><td colspan=\"4\"><em>Dependent variable: log(Coverage)</em></td></tr><tr><td style=\"text-align:left\"></td><tr><td style=\"text-align:left\"></td><td>(1)</td><td>(2)</td><td>(3)</td><td>(4)</td></tr>\n",
              "<tr><td colspan=\"5\" style=\"border-bottom: 1px solid black\"></td></tr>\n",
              "\n",
              "<tr><td style=\"text-align:left\">C(Pre)[T.-1.0]</td><td>0.142<sup>***</sup></td><td>0.134<sup>***</sup></td><td>0.142<sup>***</sup></td><td>0.133<sup>***</sup></td></tr>\n",
              "<tr><td style=\"text-align:left\"></td><td>(0.015)</td><td>(0.015)</td><td>(0.015)</td><td>(0.015)</td></tr>\n",
              "<tr><td style=\"text-align:left\">C(Pre)[T.-2.0]</td><td>0.132<sup>***</sup></td><td>0.127<sup>***</sup></td><td>0.133<sup>***</sup></td><td>0.128<sup>***</sup></td></tr>\n",
              "<tr><td style=\"text-align:left\"></td><td>(0.015)</td><td>(0.015)</td><td>(0.015)</td><td>(0.015)</td></tr>\n",
              "<tr><td style=\"text-align:left\">C(Pre)[T.-3.0]</td><td>0.091<sup>***</sup></td><td>0.083<sup>***</sup></td><td>0.092<sup>***</sup></td><td>0.084<sup>***</sup></td></tr>\n",
              "<tr><td style=\"text-align:left\"></td><td>(0.015)</td><td>(0.015)</td><td>(0.015)</td><td>(0.015)</td></tr>\n",
              "<tr><td style=\"text-align:left\">C(Pre)[T.-4.0]</td><td>0.079<sup>***</sup></td><td>0.076<sup>***</sup></td><td>0.080<sup>***</sup></td><td>0.077<sup>***</sup></td></tr>\n",
              "<tr><td style=\"text-align:left\"></td><td>(0.015)</td><td>(0.015)</td><td>(0.015)</td><td>(0.015)</td></tr>\n",
              "<tr><td style=\"text-align:left\">C(Pre)[T.0.0]</td><td>0.038<sup>**</sup></td><td>0.038<sup>**</sup></td><td>0.038<sup>**</sup></td><td>0.038<sup>**</sup></td></tr>\n",
              "<tr><td style=\"text-align:left\"></td><td>(0.015)</td><td>(0.015)</td><td>(0.016)</td><td>(0.016)</td></tr>\n",
              "<tr><td style=\"text-align:left\">Disaster</td><td>-0.059<sup>*</sup></td><td>-0.033<sup>**</sup></td><td></td><td></td></tr>\n",
              "<tr><td style=\"text-align:left\"></td><td>(0.031)</td><td>(0.015)</td><td></td><td></td></tr>\n",
              "<tr><td style=\"text-align:left\">Disaster:C(Pre)[T.-1.0]</td><td>-0.109<sup>***</sup></td><td>-0.101<sup>***</sup></td><td></td><td></td></tr>\n",
              "<tr><td style=\"text-align:left\"></td><td>(0.031)</td><td>(0.031)</td><td></td><td></td></tr>\n",
              "<tr><td style=\"text-align:left\">Disaster:C(Pre)[T.-2.0]</td><td>-0.100<sup>***</sup></td><td>-0.090<sup>***</sup></td><td></td><td></td></tr>\n",
              "<tr><td style=\"text-align:left\"></td><td>(0.031)</td><td>(0.031)</td><td></td><td></td></tr>\n",
              "<tr><td style=\"text-align:left\">Disaster:C(Pre)[T.-3.0]</td><td>-0.145<sup>***</sup></td><td>-0.137<sup>***</sup></td><td></td><td></td></tr>\n",
              "<tr><td style=\"text-align:left\"></td><td>(0.031)</td><td>(0.031)</td><td></td><td></td></tr>\n",
              "<tr><td style=\"text-align:left\">Disaster:C(Pre)[T.-4.0]</td><td>-0.045<sup></sup></td><td>-0.042<sup></sup></td><td></td><td></td></tr>\n",
              "<tr><td style=\"text-align:left\"></td><td>(0.031)</td><td>(0.031)</td><td></td><td></td></tr>\n",
              "<tr><td style=\"text-align:left\">Disaster:C(Pre)[T.0.0]</td><td>0.000<sup>***</sup></td><td>-0.000<sup>***</sup></td><td></td><td></td></tr>\n",
              "<tr><td style=\"text-align:left\"></td><td>(0.000)</td><td>(0.000)</td><td></td><td></td></tr>\n",
              "<tr><td style=\"text-align:left\">Disaster:Post</td><td></td><td>-0.033<sup>**</sup></td><td></td><td></td></tr>\n",
              "<tr><td style=\"text-align:left\"></td><td></td><td>(0.015)</td><td></td><td></td></tr>\n",
              "<tr><td style=\"text-align:left\">GDP</td><td></td><td>0.000<sup>***</sup></td><td></td><td>0.000<sup>***</sup></td></tr>\n",
              "<tr><td style=\"text-align:left\"></td><td></td><td>(0.000)</td><td></td><td>(0.000)</td></tr>\n",
              "<tr><td style=\"text-align:left\">Intercept</td><td>10.159<sup>***</sup></td><td>5.521<sup>***</sup></td><td>10.200<sup>***</sup></td><td>5.541<sup>***</sup></td></tr>\n",
              "<tr><td style=\"text-align:left\"></td><td>(0.016)</td><td>(0.008)</td><td>(0.016)</td><td>(0.008)</td></tr>\n",
              "<tr><td style=\"text-align:left\">Neighbor</td><td></td><td></td><td>0.160<sup>**</sup></td><td>0.085<sup>**</sup></td></tr>\n",
              "<tr><td style=\"text-align:left\"></td><td></td><td></td><td>(0.075)</td><td>(0.037)</td></tr>\n",
              "<tr><td style=\"text-align:left\">Neighbor:C(Pre)[T.-1.0]</td><td></td><td></td><td>-0.208<sup>***</sup></td><td>-0.229<sup>***</sup></td></tr>\n",
              "<tr><td style=\"text-align:left\"></td><td></td><td></td><td>(0.075)</td><td>(0.075)</td></tr>\n",
              "<tr><td style=\"text-align:left\">Neighbor:C(Pre)[T.-2.0]</td><td></td><td></td><td>-0.121<sup></sup></td><td>-0.142<sup>*</sup></td></tr>\n",
              "<tr><td style=\"text-align:left\"></td><td></td><td></td><td>(0.075)</td><td>(0.075)</td></tr>\n",
              "<tr><td style=\"text-align:left\">Neighbor:C(Pre)[T.-3.0]</td><td></td><td></td><td>-0.049<sup></sup></td><td>-0.071<sup></sup></td></tr>\n",
              "<tr><td style=\"text-align:left\"></td><td></td><td></td><td>(0.075)</td><td>(0.075)</td></tr>\n",
              "<tr><td style=\"text-align:left\">Neighbor:C(Pre)[T.-4.0]</td><td></td><td></td><td>-0.075<sup></sup></td><td>-0.082<sup></sup></td></tr>\n",
              "<tr><td style=\"text-align:left\"></td><td></td><td></td><td>(0.075)</td><td>(0.075)</td></tr>\n",
              "<tr><td style=\"text-align:left\">Neighbor:C(Pre)[T.0.0]</td><td></td><td></td><td>-0.068<sup></sup></td><td>-0.065<sup></sup></td></tr>\n",
              "<tr><td style=\"text-align:left\"></td><td></td><td></td><td>(0.076)</td><td>(0.075)</td></tr>\n",
              "<tr><td style=\"text-align:left\">Neighbor:Post</td><td></td><td></td><td></td><td>0.085<sup>**</sup></td></tr>\n",
              "<tr><td style=\"text-align:left\"></td><td></td><td></td><td></td><td>(0.037)</td></tr>\n",
              "<tr><td style=\"text-align:left\">Penetration</td><td>0.906<sup>***</sup></td><td></td><td>0.904<sup>***</sup></td><td></td></tr>\n",
              "<tr><td style=\"text-align:left\"></td><td>(0.005)</td><td></td><td>(0.006)</td><td></td></tr>\n",
              "<tr><td style=\"text-align:left\">Post</td><td></td><td>5.521<sup>***</sup></td><td></td><td>5.541<sup>***</sup></td></tr>\n",
              "<tr><td style=\"text-align:left\"></td><td></td><td>(0.008)</td><td></td><td>(0.008)</td></tr>\n",
              "<tr><td style=\"text-align:left\">Prem_before</td><td>0.219<sup>***</sup></td><td>0.209<sup>***</sup></td><td>0.215<sup>***</sup></td><td>0.203<sup>***</sup></td></tr>\n",
              "<tr><td style=\"text-align:left\"></td><td>(0.006)</td><td>(0.006)</td><td>(0.005)</td><td>(0.005)</td></tr>\n",
              "<tr><td style=\"text-align:left\">log(GDP)</td><td>0.001<sup>***</sup></td><td></td><td>0.001<sup>***</sup></td><td></td></tr>\n",
              "<tr><td style=\"text-align:left\"></td><td>(0.000)</td><td></td><td>(0.000)</td><td></td></tr>\n",
              "<tr><td style=\"text-align:left\">log(Penetration)</td><td></td><td>0.687<sup>***</sup></td><td></td><td>0.686<sup>***</sup></td></tr>\n",
              "<tr><td style=\"text-align:left\"></td><td></td><td>(0.004)</td><td></td><td>(0.004)</td></tr>\n",
              "<tr><td style=\"text-align:left\">log(Price)</td><td>0.361<sup>***</sup></td><td>0.359<sup>***</sup></td><td>0.350<sup>***</sup></td><td>0.348<sup>***</sup></td></tr>\n",
              "<tr><td style=\"text-align:left\"></td><td>(0.001)</td><td>(0.001)</td><td>(0.001)</td><td>(0.001)</td></tr>\n",
              "\n",
              "<td colspan=\"5\" style=\"border-bottom: 1px solid black\"></td></tr>\n",
              "<tr><td style=\"text-align: left\">Observations</td><td>620645</td><td>620645</td><td>596125</td><td>596125</td></tr><tr><td style=\"text-align: left\">R<sup>2</sup></td><td>0.363</td><td>0.365</td><td>0.347</td><td>0.350</td></tr><tr><td style=\"text-align: left\">Adjusted R<sup>2</sup></td><td>0.363</td><td>0.365</td><td>0.347</td><td>0.350</td></tr><tr><td style=\"text-align: left\">Residual Std. Error</td><td>0.674 (df=620630)</td><td>0.672 (df=620630)</td><td>0.684 (df=596109)</td><td>0.683 (df=596109)</td></tr><tr><td style=\"text-align: left\">F Statistic</td><td>25214.776<sup>***</sup> (df=14; 620630)</td><td>25495.924<sup>***</sup> (df=14; 620630)</td><td>21158.178<sup>***</sup> (df=15; 596109)</td><td>21417.333<sup>***</sup> (df=15; 596109)</td></tr>\n",
              "<tr><td colspan=\"5\" style=\"border-bottom: 1px solid black\"></td></tr><tr><td style=\"text-align: left\">Note:</td><td colspan=\"4\" style=\"text-align: right\"><sup>*</sup>p&lt;0.1; <sup>**</sup>p&lt;0.05; <sup>***</sup>p&lt;0.01</td></tr></table>"
            ],
            "text/plain": [
              "<stargazer.stargazer.Stargazer at 0x130efde50>"
            ]
          },
          "execution_count": 15,
          "metadata": {},
          "output_type": "execute_result"
        }
      ],
      "source": [
        "df[\"Pre\"]=df[\"Disaster\"]*((pd.to_datetime(df['record_date'])-pd.to_datetime(df['保险起期']))).dt.days//90+(df[\"maxpost\"]//90)\n",
        "# df[\"Pre\"]=df[\"Pre\"].map(lambda x: 1 if x>=-4 and x<0 else 0)\n",
        "# df[\"After\"]=1-df[\"Pre\"]\n",
        "stars=[]\n",
        "for category in [\"Disaster\",\"Neighbor\"]:\n",
        "    noncat = \"Disaster\" if category==\"Neighbor\" else \"Neighbor\"\n",
        "    for post in [\"\", \"Post\"]:\n",
        "        if not post:\n",
        "            regstr = f\"log(Coverage) ~ {category}*C(Pre)+Prem_before+log(Price)+log(GDP)+(Penetration)\"\n",
        "        else:\n",
        "            regstr = f\"log(Coverage) ~ {category}*C(Pre)+{category}*Post+Prem_before+log(Price)+(GDP)+log(Penetration)\"\n",
        "        model = smf.ols(regstr,data=df[(df[noncat]==0)&(df[\"Post\"]==1)]).fit()\n",
        "        stars.append(model)\n",
        "stargazer=Stargazer(stars)\n",
        "with open(\"../lib/table/robust.tex\", \"w\") as f:\n",
        "    f.write(tablelize(stargazer))\n",
        "stargazer"
      ]
    },
    {
      "cell_type": "markdown",
      "metadata": {},
      "source": [
        "## 异质性分析"
      ]
    },
    {
      "cell_type": "code",
      "execution_count": 16,
      "metadata": {},
      "outputs": [
        {
          "data": {
            "text/html": [
              "<table style=\"text-align:center\"><tr><td colspan=\"4\" style=\"border-bottom: 1px solid black\"></td></tr>\n",
              "<tr><td style=\"text-align:left\"></td><td colspan=\"3\"><em>Dependent variable: log(Coverage)</em></td></tr><tr><td style=\"text-align:left\"></td><tr><td style=\"text-align:left\"></td><td>(1)</td><td>(2)</td><td>(3)</td></tr>\n",
              "<tr><td colspan=\"4\" style=\"border-bottom: 1px solid black\"></td></tr>\n",
              "\n",
              "<tr><td style=\"text-align:left\">Disaster</td><td>-0.090<sup>***</sup></td><td>0.054<sup>***</sup></td><td>-0.159<sup>***</sup></td></tr>\n",
              "<tr><td style=\"text-align:left\"></td><td>(0.006)</td><td>(0.008)</td><td>(0.006)</td></tr>\n",
              "<tr><td style=\"text-align:left\">Disaster:Post</td><td>-0.121<sup>***</sup></td><td>-0.136<sup>***</sup></td><td>0.123<sup>***</sup></td></tr>\n",
              "<tr><td style=\"text-align:left\"></td><td>(0.007)</td><td>(0.009)</td><td>(0.008)</td></tr>\n",
              "<tr><td style=\"text-align:left\">Intercept</td><td>11.386<sup>***</sup></td><td>9.757<sup>***</sup></td><td>9.331<sup>***</sup></td></tr>\n",
              "<tr><td style=\"text-align:left\"></td><td>(0.005)</td><td>(0.006)</td><td>(0.007)</td></tr>\n",
              "<tr><td style=\"text-align:left\">Post</td><td>0.065<sup>***</sup></td><td>0.036<sup>***</sup></td><td>-0.171<sup>***</sup></td></tr>\n",
              "<tr><td style=\"text-align:left\"></td><td>(0.004)</td><td>(0.004)</td><td>(0.004)</td></tr>\n",
              "<tr><td style=\"text-align:left\">Prem_before</td><td>0.185<sup>***</sup></td><td>-0.107<sup>***</sup></td><td>0.067<sup>***</sup></td></tr>\n",
              "<tr><td style=\"text-align:left\"></td><td>(0.006)</td><td>(0.030)</td><td>(0.016)</td></tr>\n",
              "<tr><td style=\"text-align:left\">log(GDP)</td><td>0.000<sup></sup></td><td>0.000<sup></sup></td><td>-0.000<sup></sup></td></tr>\n",
              "<tr><td style=\"text-align:left\"></td><td>(0.000)</td><td>(0.000)</td><td>(0.000)</td></tr>\n",
              "<tr><td style=\"text-align:left\">log(Penetration)</td><td>0.906<sup>***</sup></td><td>-0.029<sup>***</sup></td><td>-0.071<sup>***</sup></td></tr>\n",
              "<tr><td style=\"text-align:left\"></td><td>(0.005)</td><td>(0.007)</td><td>(0.005)</td></tr>\n",
              "<tr><td style=\"text-align:left\">log(Price)</td><td>0.312<sup>***</sup></td><td>0.684<sup>***</sup></td><td>0.848<sup>***</sup></td></tr>\n",
              "<tr><td style=\"text-align:left\"></td><td>(0.001)</td><td>(0.002)</td><td>(0.001)</td></tr>\n",
              "\n",
              "<td colspan=\"4\" style=\"border-bottom: 1px solid black\"></td></tr>\n",
              "<tr><td style=\"text-align: left\">Observations</td><td>481063</td><td>123513</td><td>104695</td></tr><tr><td style=\"text-align: left\">R<sup>2</sup></td><td>0.333</td><td>0.593</td><td>0.764</td></tr><tr><td style=\"text-align: left\">Adjusted R<sup>2</sup></td><td>0.333</td><td>0.592</td><td>0.764</td></tr><tr><td style=\"text-align: left\">Residual Std. Error</td><td>0.704 (df=481055)</td><td>0.439 (df=123505)</td><td>0.375 (df=104687)</td></tr><tr><td style=\"text-align: left\">F Statistic</td><td>34345.705<sup>***</sup> (df=7; 481055)</td><td>25654.772<sup>***</sup> (df=7; 123505)</td><td>48356.638<sup>***</sup> (df=7; 104687)</td></tr>\n",
              "<tr><td colspan=\"4\" style=\"border-bottom: 1px solid black\"></td></tr><tr><td style=\"text-align: left\">Note:</td><td colspan=\"3\" style=\"text-align: right\"><sup>*</sup>p&lt;0.1; <sup>**</sup>p&lt;0.05; <sup>***</sup>p&lt;0.01</td></tr></table>"
            ],
            "text/plain": [
              "<stargazer.stargazer.Stargazer at 0x130adb740>"
            ]
          },
          "execution_count": 16,
          "metadata": {},
          "output_type": "execute_result"
        }
      ],
      "source": [
        "# 分东中西部\n",
        "\n",
        "hdf=df.copy()\n",
        "east ={i:\"East\" for i in \"北京、天津、河北、上海、江苏、浙江、福建、山东、广东、辽宁、海南\".split(\"、\")}\n",
        "middle ={i:\"West\" for i in \"山西、吉林、黑龙江、安徽、江西、河南、湖北、湖南\".split(\"、\")}\n",
        "west ={i:\"Middle\" for i in \"重庆、四川、内蒙古、广西、贵州、云南、西藏、陕西、甘肃、青海、宁夏、新疆\".split(\"、\")}\n",
        "northeast ={i:\"NorthEast\" for i in \"\".split(\"、\")}\n",
        "provinces = {**east,**middle,**west,**northeast}\n",
        "hdf[\"region\"]=hdf[\"省份\"].map(provinces)\n",
        "stars = []\n",
        "column = []\n",
        "col=[]\n",
        "for region, region_df in hdf.groupby(\"region\"):\n",
        "    column.append(region)\n",
        "    col.append(\"Disaster\")\n",
        "    model = smf.ols(\"log(Coverage) ~ Disaster*Post+Prem_before+log(Price)+log(Penetration)+log(GDP)\", data=region_df[region_df[\"Neighbor\"]==0]).fit()\n",
        "    # model = smf.ols(\"log(Coverage) ~ Neighbor*Post\", data=region_df[region_df[\"Disaster\"]==0]).fit()\n",
        "    stars.append(model)\n",
        "stargazer = Stargazer(stars)\n",
        "stargazer"
      ]
    },
    {
      "cell_type": "code",
      "execution_count": 20,
      "metadata": {},
      "outputs": [
        {
          "data": {
            "text/plain": [
              "0          -1.598367\n",
              "1          10.631651\n",
              "2          -1.598367\n",
              "3          10.631651\n",
              "4          -1.598367\n",
              "             ...    \n",
              "1559915    -1.644539\n",
              "1559918     9.839148\n",
              "1559919    -1.644539\n",
              "1559920     9.839148\n",
              "1559921    -1.644539\n",
              "Name: GDP, Length: 741442, dtype: float64"
            ]
          },
          "execution_count": 20,
          "metadata": {},
          "output_type": "execute_result"
        }
      ],
      "source": [
        "log(df[\"GDP\"])"
      ]
    },
    {
      "cell_type": "code",
      "execution_count": 17,
      "metadata": {},
      "outputs": [
        {
          "data": {
            "text/html": [
              "<table style=\"text-align:center\"><tr><td colspan=\"7\" style=\"border-bottom: 1px solid black\"></td></tr>\n",
              "<tr><td style=\"text-align:left\"></td><td colspan=\"6\"><em>Dependent variable: log(Coverage)</em></td></tr><tr><td style=\"text-align:left\"></td><tr><td></td><td colspan=\"1\">East</td><td colspan=\"1\">Middle</td><td colspan=\"1\">West</td><td colspan=\"1\">East</td><td colspan=\"1\">Middle</td><td colspan=\"1\">West</td></tr><tr><td style=\"text-align:left\"></td><td>(1)</td><td>(2)</td><td>(3)</td><td>(4)</td><td>(5)</td><td>(6)</td></tr>\n",
              "<tr><td colspan=\"7\" style=\"border-bottom: 1px solid black\"></td></tr>\n",
              "\n",
              "<tr><td style=\"text-align:left\">Disaster</td><td>-0.090<sup>***</sup></td><td>0.054<sup>***</sup></td><td>-0.159<sup>***</sup></td><td></td><td></td><td></td></tr>\n",
              "<tr><td style=\"text-align:left\"></td><td>(0.006)</td><td>(0.008)</td><td>(0.006)</td><td></td><td></td><td></td></tr>\n",
              "<tr><td style=\"text-align:left\">Disaster:Post</td><td>-0.121<sup>***</sup></td><td>-0.136<sup>***</sup></td><td>0.123<sup>***</sup></td><td></td><td></td><td></td></tr>\n",
              "<tr><td style=\"text-align:left\"></td><td>(0.007)</td><td>(0.009)</td><td>(0.008)</td><td></td><td></td><td></td></tr>\n",
              "<tr><td style=\"text-align:left\">Intercept</td><td>11.386<sup>***</sup></td><td>9.757<sup>***</sup></td><td>9.331<sup>***</sup></td><td>11.444<sup>***</sup></td><td>9.793<sup>***</sup></td><td>9.298<sup>***</sup></td></tr>\n",
              "<tr><td style=\"text-align:left\"></td><td>(0.005)</td><td>(0.006)</td><td>(0.007)</td><td>(0.006)</td><td>(0.007)</td><td>(0.007)</td></tr>\n",
              "<tr><td style=\"text-align:left\">Neighbor</td><td></td><td></td><td></td><td>-0.233<sup>***</sup></td><td>-0.136<sup>***</sup></td><td>-0.490<sup>***</sup></td></tr>\n",
              "<tr><td style=\"text-align:left\"></td><td></td><td></td><td></td><td>(0.016)</td><td>(0.018)</td><td>(0.129)</td></tr>\n",
              "<tr><td style=\"text-align:left\">Neighbor:Post</td><td></td><td></td><td></td><td>0.246<sup>***</sup></td><td>0.052<sup>***</sup></td><td>0.570<sup>***</sup></td></tr>\n",
              "<tr><td style=\"text-align:left\"></td><td></td><td></td><td></td><td>(0.017)</td><td>(0.019)</td><td>(0.129)</td></tr>\n",
              "<tr><td style=\"text-align:left\">Post</td><td>0.065<sup>***</sup></td><td>0.036<sup>***</sup></td><td>-0.171<sup>***</sup></td><td>0.065<sup>***</sup></td><td>0.037<sup>***</sup></td><td>-0.172<sup>***</sup></td></tr>\n",
              "<tr><td style=\"text-align:left\"></td><td>(0.004)</td><td>(0.004)</td><td>(0.004)</td><td>(0.004)</td><td>(0.004)</td><td>(0.004)</td></tr>\n",
              "<tr><td style=\"text-align:left\">Prem_before</td><td>0.185<sup>***</sup></td><td>-0.107<sup>***</sup></td><td>0.067<sup>***</sup></td><td>0.174<sup>***</sup></td><td>-0.106<sup>***</sup></td><td>0.071<sup>***</sup></td></tr>\n",
              "<tr><td style=\"text-align:left\"></td><td>(0.006)</td><td>(0.030)</td><td>(0.016)</td><td>(0.006)</td><td>(0.034)</td><td>(0.016)</td></tr>\n",
              "<tr><td style=\"text-align:left\">log(GDP)</td><td>0.000<sup></sup></td><td>0.000<sup></sup></td><td>-0.000<sup></sup></td><td>0.000<sup></sup></td><td>0.000<sup></sup></td><td>-0.000<sup></sup></td></tr>\n",
              "<tr><td style=\"text-align:left\"></td><td>(0.000)</td><td>(0.000)</td><td>(0.000)</td><td>(0.000)</td><td>(0.000)</td><td>(0.000)</td></tr>\n",
              "<tr><td style=\"text-align:left\">log(Penetration)</td><td>0.906<sup>***</sup></td><td>-0.029<sup>***</sup></td><td>-0.071<sup>***</sup></td><td>0.909<sup>***</sup></td><td>-0.027<sup>***</sup></td><td>-0.116<sup>***</sup></td></tr>\n",
              "<tr><td style=\"text-align:left\"></td><td>(0.005)</td><td>(0.007)</td><td>(0.005)</td><td>(0.005)</td><td>(0.008)</td><td>(0.005)</td></tr>\n",
              "<tr><td style=\"text-align:left\">log(Price)</td><td>0.312<sup>***</sup></td><td>0.684<sup>***</sup></td><td>0.848<sup>***</sup></td><td>0.296<sup>***</sup></td><td>0.672<sup>***</sup></td><td>0.852<sup>***</sup></td></tr>\n",
              "<tr><td style=\"text-align:left\"></td><td>(0.001)</td><td>(0.002)</td><td>(0.001)</td><td>(0.001)</td><td>(0.002)</td><td>(0.002)</td></tr>\n",
              "\n",
              "<td colspan=\"7\" style=\"border-bottom: 1px solid black\"></td></tr>\n",
              "<tr><td style=\"text-align: left\">Observations</td><td>481063</td><td>123513</td><td>104695</td><td>450350</td><td>107232</td><td>96922</td></tr><tr><td style=\"text-align: left\">R<sup>2</sup></td><td>0.333</td><td>0.593</td><td>0.764</td><td>0.314</td><td>0.585</td><td>0.774</td></tr><tr><td style=\"text-align: left\">Adjusted R<sup>2</sup></td><td>0.333</td><td>0.592</td><td>0.764</td><td>0.314</td><td>0.585</td><td>0.774</td></tr><tr><td style=\"text-align: left\">Residual Std. Error</td><td>0.704 (df=481055)</td><td>0.439 (df=123505)</td><td>0.375 (df=104687)</td><td>0.718 (df=450342)</td><td>0.447 (df=107224)</td><td>0.364 (df=96914)</td></tr><tr><td style=\"text-align: left\">F Statistic</td><td>34345.705<sup>***</sup> (df=7; 481055)</td><td>25654.772<sup>***</sup> (df=7; 123505)</td><td>48356.638<sup>***</sup> (df=7; 104687)</td><td>29449.242<sup>***</sup> (df=7; 450342)</td><td>21634.683<sup>***</sup> (df=7; 107224)</td><td>47450.879<sup>***</sup> (df=7; 96914)</td></tr>\n",
              "<tr><td colspan=\"7\" style=\"border-bottom: 1px solid black\"></td></tr><tr><td style=\"text-align: left\">Note:</td><td colspan=\"6\" style=\"text-align: right\"><sup>*</sup>p&lt;0.1; <sup>**</sup>p&lt;0.05; <sup>***</sup>p&lt;0.01</td></tr></table>"
            ],
            "text/plain": [
              "<stargazer.stargazer.Stargazer at 0x13a890a70>"
            ]
          },
          "execution_count": 17,
          "metadata": {},
          "output_type": "execute_result"
        }
      ],
      "source": [
        "# stars = []\n",
        "# column = []\n",
        "for region, region_df in hdf.groupby(\"region\"):\n",
        "    column.append(region)\n",
        "    col.append(\"Neighbor\")\n",
        "    # model = smf.ols(\"log(Coverage) ~ Disaster*Post+Prem_before+Price+Area\", data=region_df[region_df[\"Neighbor\"]==0]).fit()\n",
        "    model = smf.ols(\"log(Coverage) ~ Neighbor*Post+Prem_before+log(Price)+log(Penetration)+log(GDP)\", data=region_df[region_df[\"Disaster\"]==0]).fit()\n",
        "    stars.append(model)\n",
        "stargazer = Stargazer(stars)\n",
        "stargazer.custom_columns(column)\n",
        "# stargazer.add_line(\"Region\", column, \"bt\")\n",
        "# stargazer.add_line(\"Treated\", col, \"bt\")\n",
        "with open(\"../lib/table/het_geo.tex\", \"w\") as f:\n",
        "    f.write(tablelize(stargazer))\n",
        "stargazer"
      ]
    },
    {
      "cell_type": "code",
      "execution_count": 21,
      "metadata": {},
      "outputs": [
        {
          "data": {
            "text/html": [
              "<table style=\"text-align:center\"><tr><td colspan=\"3\" style=\"border-bottom: 1px solid black\"></td></tr>\n",
              "<tr><td style=\"text-align:left\"></td><td colspan=\"2\"><em>Dependent variable: log(Coverage)</em></td></tr><tr><td style=\"text-align:left\"></td><tr><td style=\"text-align:left\"></td><td>(1)</td><td>(2)</td></tr>\n",
              "<tr><td colspan=\"3\" style=\"border-bottom: 1px solid black\"></td></tr>\n",
              "\n",
              "<tr><td style=\"text-align:left\">Disaster</td><td>0.006<sup></sup></td><td>0.004<sup></sup></td></tr>\n",
              "<tr><td style=\"text-align:left\"></td><td>(0.006)</td><td>(0.005)</td></tr>\n",
              "<tr><td style=\"text-align:left\">Disaster:Post</td><td>-0.220<sup>***</sup></td><td>-0.051<sup>***</sup></td></tr>\n",
              "<tr><td style=\"text-align:left\"></td><td>(0.007)</td><td>(0.006)</td></tr>\n",
              "<tr><td style=\"text-align:left\">Intercept</td><td>11.270<sup>***</sup></td><td>9.124<sup>***</sup></td></tr>\n",
              "<tr><td style=\"text-align:left\"></td><td>(0.005)</td><td>(0.005)</td></tr>\n",
              "<tr><td style=\"text-align:left\">Post</td><td>0.134<sup>***</sup></td><td>-0.011<sup>***</sup></td></tr>\n",
              "<tr><td style=\"text-align:left\"></td><td>(0.004)</td><td>(0.003)</td></tr>\n",
              "<tr><td style=\"text-align:left\">Prem_before</td><td>0.215<sup>***</sup></td><td>0.039<sup>***</sup></td></tr>\n",
              "<tr><td style=\"text-align:left\"></td><td>(0.007)</td><td>(0.005)</td></tr>\n",
              "<tr><td style=\"text-align:left\">log(GDP)</td><td>0.001<sup>***</sup></td><td>0.001<sup>***</sup></td></tr>\n",
              "<tr><td style=\"text-align:left\"></td><td>(0.000)</td><td>(0.000)</td></tr>\n",
              "<tr><td style=\"text-align:left\">log(Penetration)</td><td>0.852<sup>***</sup></td><td>0.008<sup>*</sup></td></tr>\n",
              "<tr><td style=\"text-align:left\"></td><td>(0.005)</td><td>(0.004)</td></tr>\n",
              "<tr><td style=\"text-align:left\">log(Price)</td><td>0.299<sup>***</sup></td><td>0.891<sup>***</sup></td></tr>\n",
              "<tr><td style=\"text-align:left\"></td><td>(0.001)</td><td>(0.001)</td></tr>\n",
              "\n",
              "<td colspan=\"3\" style=\"border-bottom: 1px solid black\"></td></tr>\n",
              "<tr><td style=\"text-align: left\">Observations</td><td>479866</td><td>226846</td></tr><tr><td style=\"text-align: left\">R<sup>2</sup></td><td>0.314</td><td>0.788</td></tr><tr><td style=\"text-align: left\">Adjusted R<sup>2</sup></td><td>0.314</td><td>0.788</td></tr><tr><td style=\"text-align: left\">Residual Std. Error</td><td>0.695 (df=479858)</td><td>0.367 (df=226838)</td></tr><tr><td style=\"text-align: left\">F Statistic</td><td>31426.890<sup>***</sup> (df=7; 479858)</td><td>120172.233<sup>***</sup> (df=7; 226838)</td></tr>\n",
              "<tr><td colspan=\"3\" style=\"border-bottom: 1px solid black\"></td></tr><tr><td style=\"text-align: left\">Note:</td><td colspan=\"2\" style=\"text-align: right\"><sup>*</sup>p&lt;0.1; <sup>**</sup>p&lt;0.05; <sup>***</sup>p&lt;0.01</td></tr></table>"
            ],
            "text/plain": [
              "<stargazer.stargazer.Stargazer at 0x13b1d90d0>"
            ]
          },
          "execution_count": 21,
          "metadata": {},
          "output_type": "execute_result"
        }
      ],
      "source": [
        "hdf=df.copy()\n",
        "hdf = hdf[(hdf[\"t\"]>2002)&(hdf[\"t\"]<2013)]\n",
        "stars = []\n",
        "column = []\n",
        "col = []\n",
        "hdf[\"ti\"]=hdf[\"t\"].apply(lambda t: \"2009-2013\" if t>2008 else \"2003-2008\")\n",
        "for region, region_df in hdf.groupby(\"ti\"):\n",
        "    column.append(region)\n",
        "    col.append(\"Disaster\")\n",
        "    model = smf.ols(\"log(Coverage) ~ Disaster*Post+Prem_before+log(Price)+log(Penetration)+log(GDP)\", data=region_df[region_df[\"Neighbor\"]==0]).fit()\n",
        "    # model = smf.ols(\"log(Coverage) ~ Neighbor*Post\", data=region_df[region_df[\"Disaster\"]==0]).fit()\n",
        "    stars.append(model)\n",
        "stargazer = Stargazer(stars)\n",
        "# stargazer.custom_columns(column)\n",
        "with open(\"../lib/table/het_time.tex\", \"w\") as f:\n",
        "    f.write(tablelize(stargazer))\n",
        "stargazer"
      ]
    },
    {
      "cell_type": "code",
      "execution_count": 22,
      "metadata": {},
      "outputs": [
        {
          "data": {
            "text/html": [
              "<table style=\"text-align:center\"><tr><td colspan=\"5\" style=\"border-bottom: 1px solid black\"></td></tr>\n",
              "<tr><td style=\"text-align:left\"></td><td colspan=\"4\"><em>Dependent variable: log(Coverage)</em></td></tr><tr><td style=\"text-align:left\"></td><tr><td></td><td colspan=\"1\">2003-2008</td><td colspan=\"1\">2009-2013</td><td colspan=\"1\">2003-2008</td><td colspan=\"1\">2009-2013</td></tr><tr><td style=\"text-align:left\"></td><td>(1)</td><td>(2)</td><td>(3)</td><td>(4)</td></tr>\n",
              "<tr><td colspan=\"5\" style=\"border-bottom: 1px solid black\"></td></tr>\n",
              "\n",
              "<tr><td style=\"text-align:left\">Disaster</td><td>0.006<sup></sup></td><td>0.004<sup></sup></td><td></td><td></td></tr>\n",
              "<tr><td style=\"text-align:left\"></td><td>(0.006)</td><td>(0.005)</td><td></td><td></td></tr>\n",
              "<tr><td style=\"text-align:left\">Disaster:Post</td><td>-0.220<sup>***</sup></td><td>-0.051<sup>***</sup></td><td></td><td></td></tr>\n",
              "<tr><td style=\"text-align:left\"></td><td>(0.007)</td><td>(0.006)</td><td></td><td></td></tr>\n",
              "<tr><td style=\"text-align:left\">Intercept</td><td>11.270<sup>***</sup></td><td>9.124<sup>***</sup></td><td>11.219<sup>***</sup></td><td>9.109<sup>***</sup></td></tr>\n",
              "<tr><td style=\"text-align:left\"></td><td>(0.005)</td><td>(0.005)</td><td>(0.005)</td><td>(0.006)</td></tr>\n",
              "<tr><td style=\"text-align:left\">Neighbor</td><td></td><td></td><td>-0.111<sup>***</sup></td><td>-0.119<sup>***</sup></td></tr>\n",
              "<tr><td style=\"text-align:left\"></td><td></td><td></td><td>(0.015)</td><td>(0.016)</td></tr>\n",
              "<tr><td style=\"text-align:left\">Neighbor:Post</td><td></td><td></td><td>0.113<sup>***</sup></td><td>0.203<sup>***</sup></td></tr>\n",
              "<tr><td style=\"text-align:left\"></td><td></td><td></td><td>(0.016)</td><td>(0.017)</td></tr>\n",
              "<tr><td style=\"text-align:left\">Post</td><td>0.134<sup>***</sup></td><td>-0.011<sup>***</sup></td><td>0.146<sup>***</sup></td><td>-0.033<sup>***</sup></td></tr>\n",
              "<tr><td style=\"text-align:left\"></td><td>(0.004)</td><td>(0.003)</td><td>(0.004)</td><td>(0.004)</td></tr>\n",
              "<tr><td style=\"text-align:left\">Prem_before</td><td>0.215<sup>***</sup></td><td>0.039<sup>***</sup></td><td>0.210<sup>***</sup></td><td>0.025<sup>***</sup></td></tr>\n",
              "<tr><td style=\"text-align:left\"></td><td>(0.007)</td><td>(0.005)</td><td>(0.006)</td><td>(0.006)</td></tr>\n",
              "<tr><td style=\"text-align:left\">log(GDP)</td><td>0.001<sup>***</sup></td><td>0.001<sup>***</sup></td><td>0.002<sup>***</sup></td><td>0.001<sup>***</sup></td></tr>\n",
              "<tr><td style=\"text-align:left\"></td><td>(0.000)</td><td>(0.000)</td><td>(0.000)</td><td>(0.000)</td></tr>\n",
              "<tr><td style=\"text-align:left\">log(Penetration)</td><td>0.852<sup>***</sup></td><td>0.008<sup>*</sup></td><td>0.811<sup>***</sup></td><td>-0.025<sup>***</sup></td></tr>\n",
              "<tr><td style=\"text-align:left\"></td><td>(0.005)</td><td>(0.004)</td><td>(0.005)</td><td>(0.006)</td></tr>\n",
              "<tr><td style=\"text-align:left\">log(Price)</td><td>0.299<sup>***</sup></td><td>0.891<sup>***</sup></td><td>0.307<sup>***</sup></td><td>0.899<sup>***</sup></td></tr>\n",
              "<tr><td style=\"text-align:left\"></td><td>(0.001)</td><td>(0.001)</td><td>(0.001)</td><td>(0.001)</td></tr>\n",
              "\n",
              "<td colspan=\"5\" style=\"border-bottom: 1px solid black\"></td></tr>\n",
              "<tr><td style=\"text-align: left\">Observations</td><td>479866</td><td>226846</td><td>505321</td><td>147024</td></tr><tr><td style=\"text-align: left\">R<sup>2</sup></td><td>0.314</td><td>0.788</td><td>0.314</td><td>0.789</td></tr><tr><td style=\"text-align: left\">Adjusted R<sup>2</sup></td><td>0.314</td><td>0.788</td><td>0.314</td><td>0.789</td></tr><tr><td style=\"text-align: left\">Residual Std. Error</td><td>0.695 (df=479858)</td><td>0.367 (df=226838)</td><td>0.698 (df=505313)</td><td>0.366 (df=147016)</td></tr><tr><td style=\"text-align: left\">F Statistic</td><td>31426.890<sup>***</sup> (df=7; 479858)</td><td>120172.233<sup>***</sup> (df=7; 226838)</td><td>33000.866<sup>***</sup> (df=7; 505313)</td><td>78734.049<sup>***</sup> (df=7; 147016)</td></tr>\n",
              "<tr><td colspan=\"5\" style=\"border-bottom: 1px solid black\"></td></tr><tr><td style=\"text-align: left\">Note:</td><td colspan=\"4\" style=\"text-align: right\"><sup>*</sup>p&lt;0.1; <sup>**</sup>p&lt;0.05; <sup>***</sup>p&lt;0.01</td></tr></table>"
            ],
            "text/plain": [
              "<stargazer.stargazer.Stargazer at 0x13b14bce0>"
            ]
          },
          "execution_count": 22,
          "metadata": {},
          "output_type": "execute_result"
        }
      ],
      "source": [
        "# stars = []\n",
        "# column = []\n",
        "hdf[\"ti\"]=hdf[\"t\"].apply(lambda t: \"2009-2013\" if t>2009 else \"2003-2008\")\n",
        "for region, region_df in hdf.groupby(\"ti\"):\n",
        "    column.append(region)\n",
        "    col.append(\"Neighbor\")\n",
        "    # model = smf.ols(\"log(Coverage) ~ Disaster*Post\", data=region_df[region_df[\"Neighbor\"]==0]).fit()\n",
        "    model = smf.ols(\"log(Coverage) ~ Neighbor*Post+Prem_before+log(Price)+log(Penetration)+log(GDP)\", data=region_df[region_df[\"Disaster\"]==0]).fit()\n",
        "    stars.append(model)\n",
        "stargazer = Stargazer(stars)\n",
        "stargazer.custom_columns(column)\n",
        "with open(\"../lib/table/het_time.tex\", \"w\") as f:\n",
        "    f.write(tablelize(stargazer))\n",
        "stargazer"
      ]
    },
    {
      "cell_type": "code",
      "execution_count": 23,
      "metadata": {},
      "outputs": [
        {
          "data": {
            "text/html": [
              "<table style=\"text-align:center\"><tr><td colspan=\"15\" style=\"border-bottom: 1px solid black\"></td></tr>\n",
              "<tr><td style=\"text-align:left\"></td><td colspan=\"14\"><em>Dependent variable: log(Coverage)</em></td></tr><tr><td style=\"text-align:left\"></td><tr><td></td><td colspan=\"1\">2000</td><td colspan=\"1\">2001</td><td colspan=\"1\">2002</td><td colspan=\"1\">2003</td><td colspan=\"1\">2004</td><td colspan=\"1\">2005</td><td colspan=\"1\">2006</td><td colspan=\"1\">2007</td><td colspan=\"1\">2008</td><td colspan=\"1\">2009</td><td colspan=\"1\">2010</td><td colspan=\"1\">2011</td><td colspan=\"1\">2012</td><td colspan=\"1\">2013</td></tr><tr><td style=\"text-align:left\"></td><td>(1)</td><td>(2)</td><td>(3)</td><td>(4)</td><td>(5)</td><td>(6)</td><td>(7)</td><td>(8)</td><td>(9)</td><td>(10)</td><td>(11)</td><td>(12)</td><td>(13)</td><td>(14)</td></tr>\n",
              "<tr><td colspan=\"15\" style=\"border-bottom: 1px solid black\"></td></tr>\n",
              "\n",
              "<tr><td style=\"text-align:left\">Intercept</td><td>13.469<sup>***</sup></td><td>12.413<sup>***</sup></td><td>12.175<sup>***</sup></td><td>11.891<sup>***</sup></td><td>11.281<sup>***</sup></td><td>9.856<sup>***</sup></td><td>10.045<sup>***</sup></td><td>9.951<sup>***</sup></td><td>9.097<sup>***</sup></td><td>9.074<sup>***</sup></td><td>9.194<sup>***</sup></td><td>9.059<sup>***</sup></td><td>8.968<sup>***</sup></td><td>9.204<sup>***</sup></td></tr>\n",
              "<tr><td style=\"text-align:left\"></td><td>(0.189)</td><td>(0.203)</td><td>(0.078)</td><td>(0.017)</td><td>(0.010)</td><td>(0.009)</td><td>(0.013)</td><td>(0.011)</td><td>(0.010)</td><td>(0.008)</td><td>(0.008)</td><td>(0.009)</td><td>(0.017)</td><td>(0.275)</td></tr>\n",
              "<tr><td style=\"text-align:left\">Neighbor</td><td>0.000<sup>***</sup></td><td>0.043<sup></sup></td><td>0.065<sup></sup></td><td>-0.159<sup></sup></td><td>0.366<sup></sup></td><td>0.101<sup></sup></td><td>0.003<sup></sup></td><td>-0.185<sup>***</sup></td><td>-0.154<sup>***</sup></td><td>-0.242<sup>***</sup></td><td>-0.162<sup>***</sup></td><td>-0.319<sup>***</sup></td><td>0.159<sup></sup></td><td>-0.181<sup></sup></td></tr>\n",
              "<tr><td style=\"text-align:left\"></td><td>(0.000)</td><td>(0.158)</td><td>(0.152)</td><td>(0.234)</td><td>(0.284)</td><td>(0.070)</td><td>(0.045)</td><td>(0.018)</td><td>(0.014)</td><td>(0.033)</td><td>(0.017)</td><td>(0.109)</td><td>(0.408)</td><td>(0.158)</td></tr>\n",
              "<tr><td style=\"text-align:left\">Neighbor:Post</td><td>-0.000<sup>***</sup></td><td>0.043<sup></sup></td><td>0.065<sup></sup></td><td>-0.242<sup></sup></td><td>-0.680<sup>**</sup></td><td>-0.232<sup>***</sup></td><td>-0.035<sup></sup></td><td>0.289<sup>***</sup></td><td>0.291<sup>***</sup></td><td>0.381<sup>***</sup></td><td>0.267<sup>***</sup></td><td>0.397<sup>***</sup></td><td>-0.120<sup></sup></td><td>-0.181<sup></sup></td></tr>\n",
              "<tr><td style=\"text-align:left\"></td><td>(0.000)</td><td>(0.158)</td><td>(0.152)</td><td>(0.237)</td><td>(0.285)</td><td>(0.072)</td><td>(0.047)</td><td>(0.020)</td><td>(0.014)</td><td>(0.033)</td><td>(0.018)</td><td>(0.110)</td><td>(0.408)</td><td>(0.158)</td></tr>\n",
              "<tr><td style=\"text-align:left\">Post</td><td>-0.896<sup>***</sup></td><td>-0.324<sup>*</sup></td><td>0.021<sup></sup></td><td>0.314<sup>***</sup></td><td>0.122<sup>***</sup></td><td>0.018<sup>***</sup></td><td>0.022<sup>**</sup></td><td>-0.026<sup>***</sup></td><td>-0.004<sup></sup></td><td>0.050<sup>***</sup></td><td>-0.044<sup>***</sup></td><td>-0.045<sup>***</sup></td><td>0.001<sup></sup></td><td>0.004<sup></sup></td></tr>\n",
              "<tr><td style=\"text-align:left\"></td><td>(0.197)</td><td>(0.187)</td><td>(0.065)</td><td>(0.016)</td><td>(0.007)</td><td>(0.006)</td><td>(0.009)</td><td>(0.007)</td><td>(0.006)</td><td>(0.006)</td><td>(0.006)</td><td>(0.005)</td><td>(0.009)</td><td>(0.176)</td></tr>\n",
              "<tr><td style=\"text-align:left\">Prem_before</td><td>-0.516<sup>**</sup></td><td>0.000<sup>***</sup></td><td>-0.000<sup>***</sup></td><td>0.299<sup>***</sup></td><td>0.309<sup>***</sup></td><td>0.362<sup>***</sup></td><td>0.347<sup>***</sup></td><td>0.117<sup>***</sup></td><td>0.008<sup></sup></td><td>0.128<sup>***</sup></td><td>-0.033<sup>***</sup></td><td>0.163<sup>***</sup></td><td>0.143<sup>***</sup></td><td>-0.001<sup></sup></td></tr>\n",
              "<tr><td style=\"text-align:left\"></td><td>(0.211)</td><td>(0.000)</td><td>(0.000)</td><td>(0.023)</td><td>(0.013)</td><td>(0.010)</td><td>(0.013)</td><td>(0.014)</td><td>(0.013)</td><td>(0.007)</td><td>(0.007)</td><td>(0.014)</td><td>(0.039)</td><td>(0.105)</td></tr>\n",
              "<tr><td style=\"text-align:left\">log(GDP)</td><td>0.000<sup></sup></td><td>-0.001<sup></sup></td><td>-0.001<sup></sup></td><td>0.002<sup>**</sup></td><td>0.001<sup>***</sup></td><td>0.001<sup>**</sup></td><td>0.001<sup>**</sup></td><td>0.000<sup></sup></td><td>0.000<sup></sup></td><td>-0.000<sup>*</sup></td><td>0.000<sup></sup></td><td>0.000<sup></sup></td><td>0.006<sup>***</sup></td><td>-0.003<sup></sup></td></tr>\n",
              "<tr><td style=\"text-align:left\"></td><td>(0.010)</td><td>(0.005)</td><td>(0.004)</td><td>(0.001)</td><td>(0.000)</td><td>(0.000)</td><td>(0.000)</td><td>(0.000)</td><td>(0.000)</td><td>(0.000)</td><td>(0.000)</td><td>(0.000)</td><td>(0.000)</td><td>(0.019)</td></tr>\n",
              "<tr><td style=\"text-align:left\">log(Penetration)</td><td>1.761<sup>***</sup></td><td>0.442<sup>**</sup></td><td>0.873<sup>***</sup></td><td>0.977<sup>***</sup></td><td>0.844<sup>***</sup></td><td>0.153<sup>***</sup></td><td>0.397<sup>***</sup></td><td>0.245<sup>***</sup></td><td>0.159<sup>***</sup></td><td>0.050<sup>***</sup></td><td>0.093<sup>***</sup></td><td>-0.112<sup>***</sup></td><td>-0.363<sup>***</sup></td><td>-2.627<sup>***</sup></td></tr>\n",
              "<tr><td style=\"text-align:left\"></td><td>(0.242)</td><td>(0.180)</td><td>(0.121)</td><td>(0.018)</td><td>(0.011)</td><td>(0.008)</td><td>(0.011)</td><td>(0.011)</td><td>(0.009)</td><td>(0.009)</td><td>(0.008)</td><td>(0.009)</td><td>(0.018)</td><td>(0.833)</td></tr>\n",
              "<tr><td style=\"text-align:left\">log(Price)</td><td>0.091<sup>***</sup></td><td>0.101<sup>***</sup></td><td>0.086<sup>***</sup></td><td>0.045<sup>***</sup></td><td>0.284<sup>***</sup></td><td>0.669<sup>***</sup></td><td>0.629<sup>***</sup></td><td>0.665<sup>***</sup></td><td>0.898<sup>***</sup></td><td>0.892<sup>***</sup></td><td>0.889<sup>***</sup></td><td>0.910<sup>***</sup></td><td>0.900<sup>***</sup></td><td>0.840<sup>***</sup></td></tr>\n",
              "<tr><td style=\"text-align:left\"></td><td>(0.028)</td><td>(0.015)</td><td>(0.009)</td><td>(0.001)</td><td>(0.002)</td><td>(0.002)</td><td>(0.002)</td><td>(0.002)</td><td>(0.002)</td><td>(0.002)</td><td>(0.002)</td><td>(0.002)</td><td>(0.004)</td><td>(0.038)</td></tr>\n",
              "\n",
              "<td colspan=\"15\" style=\"border-bottom: 1px solid black\"></td></tr>\n",
              "<tr><td style=\"text-align: left\">Observations</td><td>74</td><td>386</td><td>1184</td><td>48782</td><td>110382</td><td>92522</td><td>76208</td><td>61784</td><td>48176</td><td>67467</td><td>76114</td><td>48549</td><td>22361</td><td>515</td></tr><tr><td style=\"text-align: left\">R<sup>2</sup></td><td>0.557</td><td>0.109</td><td>0.101</td><td>0.091</td><td>0.289</td><td>0.593</td><td>0.558</td><td>0.592</td><td>0.838</td><td>0.795</td><td>0.810</td><td>0.795</td><td>0.715</td><td>0.514</td></tr><tr><td style=\"text-align: left\">Adjusted R<sup>2</sup></td><td>0.525</td><td>0.097</td><td>0.098</td><td>0.091</td><td>0.289</td><td>0.593</td><td>0.558</td><td>0.592</td><td>0.838</td><td>0.795</td><td>0.810</td><td>0.795</td><td>0.715</td><td>0.508</td></tr><tr><td style=\"text-align: left\">Residual Std. Error</td><td>0.479 (df=68)</td><td>0.609 (df=380)</td><td>0.740 (df=1178)</td><td>0.808 (df=48774)</td><td>0.696 (df=110374)</td><td>0.533 (df=92514)</td><td>0.546 (df=76200)</td><td>0.535 (df=61776)</td><td>0.364 (df=48168)</td><td>0.364 (df=67459)</td><td>0.361 (df=76106)</td><td>0.346 (df=48541)</td><td>0.407 (df=22353)</td><td>0.488 (df=508)</td></tr><tr><td style=\"text-align: left\">F Statistic</td><td>17.126<sup>***</sup> (df=5; 68)</td><td>9.261<sup>***</sup> (df=5; 380)</td><td>26.604<sup>***</sup> (df=5; 1178)</td><td>694.479<sup>***</sup> (df=7; 48774)</td><td>6409.297<sup>***</sup> (df=7; 110374)</td><td>19222.738<sup>***</sup> (df=7; 92514)</td><td>13720.770<sup>***</sup> (df=7; 76200)</td><td>12816.789<sup>***</sup> (df=7; 61776)</td><td>35475.985<sup>***</sup> (df=7; 48168)</td><td>37402.913<sup>***</sup> (df=7; 67459)</td><td>46245.690<sup>***</sup> (df=7; 76106)</td><td>26903.167<sup>***</sup> (df=7; 48541)</td><td>7996.979<sup>***</sup> (df=7; 22353)</td><td>89.514<sup>***</sup> (df=6; 508)</td></tr>\n",
              "<tr><td colspan=\"15\" style=\"border-bottom: 1px solid black\"></td></tr><tr><td style=\"text-align: left\">Note:</td><td colspan=\"14\" style=\"text-align: right\"><sup>*</sup>p&lt;0.1; <sup>**</sup>p&lt;0.05; <sup>***</sup>p&lt;0.01</td></tr></table>"
            ],
            "text/plain": [
              "<stargazer.stargazer.Stargazer at 0x13b142240>"
            ]
          },
          "execution_count": 23,
          "metadata": {},
          "output_type": "execute_result"
        }
      ],
      "source": [
        "stars = []\n",
        "column = []\n",
        "for region, region_df in df.groupby(\"t\"):\n",
        "    column.append(region)\n",
        "    # model = smf.ols(\"log(Coverage) ~ Disaster*Post\", data=region_df[region_df[\"Neighbor\"]==0]).fit()\n",
        "    model = smf.ols(\"log(Coverage) ~ Neighbor*Post+Prem_before+log(Price)+log(Penetration)+log(GDP)\", data=region_df[region_df[\"Disaster\"]==0]).fit()\n",
        "    stars.append(model)\n",
        "stargazer = Stargazer(stars)\n",
        "stargazer.custom_columns(column)\n",
        "# with open(\"../lib/table/het_time.tex\", \"w\") as f:\n",
        "#     f.write(tablelize(stargazer))\n",
        "stargazer"
      ]
    },
    {
      "cell_type": "code",
      "execution_count": 28,
      "metadata": {},
      "outputs": [
        {
          "data": {
            "text/html": [
              "<table style=\"text-align:center\"><tr><td colspan=\"7\" style=\"border-bottom: 1px solid black\"></td></tr>\n",
              "<tr><td style=\"text-align:left\"></td><td colspan=\"6\"><em>Dependent variable: log(Coverage)</em></td></tr><tr><td style=\"text-align:left\"></td><tr><td></td><td colspan=\"1\">low</td><td colspan=\"1\">mid</td><td colspan=\"1\">high</td><td colspan=\"1\">low</td><td colspan=\"1\">mid</td><td colspan=\"1\">high</td></tr><tr><td style=\"text-align:left\"></td><td>(1)</td><td>(2)</td><td>(3)</td><td>(4)</td><td>(5)</td><td>(6)</td></tr>\n",
              "<tr><td colspan=\"7\" style=\"border-bottom: 1px solid black\"></td></tr>\n",
              "\n",
              "<tr><td style=\"text-align:left\">Disaster</td><td>-0.034<sup>***</sup></td><td>0.017<sup>***</sup></td><td>-0.174<sup>***</sup></td><td></td><td></td><td></td></tr>\n",
              "<tr><td style=\"text-align:left\"></td><td>(0.004)</td><td>(0.002)</td><td>(0.006)</td><td></td><td></td><td></td></tr>\n",
              "<tr><td style=\"text-align:left\">Disaster:Post</td><td>0.004<sup></sup></td><td>-0.033<sup>***</sup></td><td>0.062<sup>***</sup></td><td></td><td></td><td></td></tr>\n",
              "<tr><td style=\"text-align:left\"></td><td>(0.005)</td><td>(0.003)</td><td>(0.007)</td><td></td><td></td><td></td></tr>\n",
              "<tr><td style=\"text-align:left\">Intercept</td><td>10.965<sup>***</sup></td><td>12.063<sup>***</sup></td><td>12.511<sup>***</sup></td><td>10.992<sup>***</sup></td><td>12.071<sup>***</sup></td><td>12.537<sup>***</sup></td></tr>\n",
              "<tr><td style=\"text-align:left\"></td><td>(0.004)</td><td>(0.002)</td><td>(0.005)</td><td>(0.004)</td><td>(0.002)</td><td>(0.005)</td></tr>\n",
              "<tr><td style=\"text-align:left\">Neighbor</td><td></td><td></td><td></td><td>0.125<sup>***</sup></td><td>-0.060<sup>***</sup></td><td>-0.115<sup>***</sup></td></tr>\n",
              "<tr><td style=\"text-align:left\"></td><td></td><td></td><td></td><td>(0.009)</td><td>(0.006)</td><td>(0.034)</td></tr>\n",
              "<tr><td style=\"text-align:left\">Neighbor:Post</td><td></td><td></td><td></td><td>-0.131<sup>***</sup></td><td>0.064<sup>***</sup></td><td>0.125<sup>***</sup></td></tr>\n",
              "<tr><td style=\"text-align:left\"></td><td></td><td></td><td></td><td>(0.010)</td><td>(0.006)</td><td>(0.034)</td></tr>\n",
              "<tr><td style=\"text-align:left\">Post</td><td>0.016<sup>***</sup></td><td>0.017<sup>***</sup></td><td>0.002<sup></sup></td><td>0.018<sup>***</sup></td><td>0.017<sup>***</sup></td><td>0.001<sup></sup></td></tr>\n",
              "<tr><td style=\"text-align:left\"></td><td>(0.002)</td><td>(0.002)</td><td>(0.004)</td><td>(0.002)</td><td>(0.002)</td><td>(0.004)</td></tr>\n",
              "<tr><td style=\"text-align:left\">Prem_before</td><td>0.161<sup>***</sup></td><td>0.028<sup>***</sup></td><td>0.071<sup>***</sup></td><td>0.163<sup>***</sup></td><td>0.029<sup>***</sup></td><td>0.056<sup>***</sup></td></tr>\n",
              "<tr><td style=\"text-align:left\"></td><td>(0.006)</td><td>(0.003)</td><td>(0.005)</td><td>(0.006)</td><td>(0.002)</td><td>(0.005)</td></tr>\n",
              "<tr><td style=\"text-align:left\">log(GDP)</td><td>0.000<sup>***</sup></td><td>-0.000<sup></sup></td><td>0.000<sup>**</sup></td><td>0.000<sup>***</sup></td><td>-0.000<sup></sup></td><td>0.001<sup>***</sup></td></tr>\n",
              "<tr><td style=\"text-align:left\"></td><td>(0.000)</td><td>(0.000)</td><td>(0.000)</td><td>(0.000)</td><td>(0.000)</td><td>(0.000)</td></tr>\n",
              "<tr><td style=\"text-align:left\">log(Penetration)</td><td>0.184<sup>***</sup></td><td>0.083<sup>***</sup></td><td>0.272<sup>***</sup></td><td>0.175<sup>***</sup></td><td>0.077<sup>***</sup></td><td>0.271<sup>***</sup></td></tr>\n",
              "<tr><td style=\"text-align:left\"></td><td>(0.003)</td><td>(0.002)</td><td>(0.005)</td><td>(0.003)</td><td>(0.002)</td><td>(0.005)</td></tr>\n",
              "<tr><td style=\"text-align:left\">log(Price)</td><td>0.155<sup>***</sup></td><td>0.028<sup>***</sup></td><td>0.153<sup>***</sup></td><td>0.143<sup>***</sup></td><td>0.025<sup>***</sup></td><td>0.147<sup>***</sup></td></tr>\n",
              "<tr><td style=\"text-align:left\"></td><td>(0.001)</td><td>(0.000)</td><td>(0.001)</td><td>(0.001)</td><td>(0.000)</td><td>(0.001)</td></tr>\n",
              "\n",
              "<td colspan=\"7\" style=\"border-bottom: 1px solid black\"></td></tr>\n",
              "<tr><td style=\"text-align: left\">Observations</td><td>257450</td><td>217205</td><td>248973</td><td>232305</td><td>199829</td><td>235661</td></tr><tr><td style=\"text-align: left\">R<sup>2</sup></td><td>0.128</td><td>0.033</td><td>0.160</td><td>0.119</td><td>0.030</td><td>0.150</td></tr><tr><td style=\"text-align: left\">Adjusted R<sup>2</sup></td><td>0.128</td><td>0.033</td><td>0.160</td><td>0.119</td><td>0.030</td><td>0.150</td></tr><tr><td style=\"text-align: left\">Residual Std. Error</td><td>0.368 (df=257442)</td><td>0.182 (df=217197)</td><td>0.473 (df=248965)</td><td>0.366 (df=232297)</td><td>0.183 (df=199821)</td><td>0.483 (df=235653)</td></tr><tr><td style=\"text-align: left\">F Statistic</td><td>5422.418<sup>***</sup> (df=7; 257442)</td><td>1053.810<sup>***</sup> (df=7; 217197)</td><td>6791.965<sup>***</sup> (df=7; 248965)</td><td>4463.111<sup>***</sup> (df=7; 232297)</td><td>893.130<sup>***</sup> (df=7; 199821)</td><td>5931.533<sup>***</sup> (df=7; 235653)</td></tr>\n",
              "<tr><td colspan=\"7\" style=\"border-bottom: 1px solid black\"></td></tr><tr><td style=\"text-align: left\">Note:</td><td colspan=\"6\" style=\"text-align: right\"><sup>*</sup>p&lt;0.1; <sup>**</sup>p&lt;0.05; <sup>***</sup>p&lt;0.01</td></tr></table>"
            ],
            "text/plain": [
              "<stargazer.stargazer.Stargazer at 0x13b14ac00>"
            ]
          },
          "execution_count": 28,
          "metadata": {},
          "output_type": "execute_result"
        }
      ],
      "source": [
        "groups = \"Coverage\"\n",
        "hdf = df[df[groups] > 0]\n",
        "quantiles = hdf[groups].quantile([0.00, 0.35, 0.65, 1]).values.tolist()\n",
        "hdf = hdf[hdf[groups].between(quantiles[0], quantiles[-1])]\n",
        "stars = []\n",
        "\n",
        "for category in [\"Disaster\", \"Neighbor\"]:\n",
        "    for i in range(len(quantiles) - 1):\n",
        "        noncat = \"Neighbor\" if category == \"Disaster\" else \"Disaster\"\n",
        "        model = smf.ols(\n",
        "            f\"log(Coverage) ~ {category}*Post+Prem_before+log(Price)+log(Penetration)+log(GDP)\",\n",
        "            data=hdf[\n",
        "                (hdf[groups].between(quantiles[i], quantiles[i + 1]))\n",
        "                & (hdf[noncat] == 0)\n",
        "            ],\n",
        "        ).fit()\n",
        "        stars.append(model)\n",
        "stargazer = Stargazer(stars)\n",
        "stargazer.custom_columns([\"low\", \"mid\", \"high\"]*2)\n",
        "stargazer"
      ]
    },
    {
      "cell_type": "code",
      "execution_count": 30,
      "metadata": {},
      "outputs": [],
      "source": [
        "with open(\"../lib/table/het_cov.tex\", \"w\") as f:\n",
        "    f.write(tablelize(stargazer))"
      ]
    },
    {
      "cell_type": "code",
      "execution_count": null,
      "metadata": {},
      "outputs": [],
      "source": []
    }
  ],
  "metadata": {
    "colab": {
      "provenance": []
    },
    "kernelspec": {
      "display_name": ".venv",
      "language": "python",
      "name": "python3"
    },
    "language_info": {
      "codemirror_mode": {
        "name": "ipython",
        "version": 3
      },
      "file_extension": ".py",
      "mimetype": "text/x-python",
      "name": "python",
      "nbconvert_exporter": "python",
      "pygments_lexer": "ipython3",
      "version": "3.12.3"
    }
  },
  "nbformat": 4,
  "nbformat_minor": 0
}
